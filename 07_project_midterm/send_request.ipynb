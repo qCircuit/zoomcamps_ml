{
 "cells": [
  {
   "cell_type": "code",
   "execution_count": 38,
   "metadata": {},
   "outputs": [
    {
     "name": "stdout",
     "output_type": "stream",
     "text": [
      "{'phone price range': 1.0}\n"
     ]
    }
   ],
   "source": [
    "import requests\n",
    "\n",
    "url = \"http://localhost:9696/predict\"\n",
    "\n",
    "phone = {\n",
    "    \"battery_power\": 842.0,\n",
    "    \"blue\": 0.0,\n",
    "    \"clock_speed\": 2.2,\n",
    "    \"dual_sim\": 0.0,\n",
    "    \"fc\": 1.0,\n",
    "    \"four_g\": 0.0,\n",
    "    \"int_memory\": 7.0,\n",
    "    \"m_dep\": 0.6,\n",
    "    \"mobile_wt\": 188.0,\n",
    "    \"n_cores\": 2.0,\n",
    "    \"pc\": 2.0,\n",
    "    \"px_height\": 20.0,\n",
    "    \"px_width\": 756.0,\n",
    "    \"ram\": 2549.0,\n",
    "    \"sc_h\": 9.0,\n",
    "    \"sc_w\": 7.0,\n",
    "    \"talk_time\": 19.0,\n",
    "    \"three_g\": 0.0,\n",
    "    \"touch_screen\": 0.0,\n",
    "    \"wifi\": 1.0\n",
    "}\n",
    "\n",
    "response = requests.post(url, json=phone).json()\n",
    "print(response)"
   ]
  },
  {
   "cell_type": "code",
   "execution_count": null,
   "metadata": {},
   "outputs": [],
   "source": []
  }
 ],
 "metadata": {
  "kernelspec": {
   "display_name": "base",
   "language": "python",
   "name": "python3"
  },
  "language_info": {
   "codemirror_mode": {
    "name": "ipython",
    "version": 3
   },
   "file_extension": ".py",
   "mimetype": "text/x-python",
   "name": "python",
   "nbconvert_exporter": "python",
   "pygments_lexer": "ipython3",
   "version": "3.10.9"
  }
 },
 "nbformat": 4,
 "nbformat_minor": 2
}
