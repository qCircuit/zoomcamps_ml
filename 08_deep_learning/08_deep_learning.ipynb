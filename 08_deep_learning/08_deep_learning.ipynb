{
  "nbformat": 4,
  "nbformat_minor": 0,
  "metadata": {
    "colab": {
      "provenance": [],
      "gpuType": "T4"
    },
    "kernelspec": {
      "name": "python3",
      "display_name": "Python 3"
    },
    "language_info": {
      "name": "python"
    },
    "accelerator": "GPU"
  },
  "cells": [
    {
      "cell_type": "code",
      "execution_count": 6,
      "metadata": {
        "colab": {
          "base_uri": "https://localhost:8080/"
        },
        "id": "fjYrhz7kNZfE",
        "outputId": "75b1c70e-4f3a-49da-ed6d-f83e8ecbf88a"
      },
      "outputs": [
        {
          "output_type": "stream",
          "name": "stdout",
          "text": [
            "Drive already mounted at /content/d; to attempt to forcibly remount, call drive.mount(\"/content/d\", force_remount=True).\n"
          ]
        }
      ],
      "source": [
        "from google.colab import drive\n",
        "drive.mount(\"/content/d\")"
      ]
    },
    {
      "cell_type": "code",
      "source": [
        "!git clone https://github.com/alexeygrigorev/clothing-dataset-small.git d/MyDrive/zoomcamps_ml/08_deep_learning/data"
      ],
      "metadata": {
        "colab": {
          "base_uri": "https://localhost:8080/"
        },
        "id": "14A7hPxtOAKI",
        "outputId": "ac9a015a-5757-476d-96bc-d65aaa0de378"
      },
      "execution_count": null,
      "outputs": [
        {
          "output_type": "stream",
          "name": "stdout",
          "text": [
            "Cloning into 'd/MyDrive/zoomcamps_ml/08_deep_learning/data'...\n",
            "remote: Enumerating objects: 3839, done.\u001b[K\n",
            "remote: Counting objects: 100% (400/400), done.\u001b[K\n",
            "remote: Compressing objects: 100% (400/400), done.\u001b[K\n",
            "remote: Total 3839 (delta 9), reused 385 (delta 0), pack-reused 3439\u001b[K\n",
            "Receiving objects: 100% (3839/3839), 100.58 MiB | 19.31 MiB/s, done.\n",
            "Resolving deltas: 100% (10/10), done.\n",
            "Updating files: 100% (3783/3783), done.\n"
          ]
        }
      ]
    },
    {
      "cell_type": "code",
      "source": [
        "import matplotlib.pyplot as plt\n",
        "import numpy as np\n",
        "\n",
        "import tensorflow as tf\n",
        "from tensorflow import keras\n",
        "from tensorflow.keras.preprocessing.image import load_img, ImageDataGenerator\n",
        "from tensorflow.keras.applications.xception import Xception\n",
        "from tensorflow.keras.applications.xception import preprocess_input, decode_predictions"
      ],
      "metadata": {
        "id": "93YzgN48PA9-"
      },
      "execution_count": null,
      "outputs": []
    },
    {
      "cell_type": "code",
      "source": [
        "path = \"d/MyDrive/zoomcamps_ml/08_deep_learning/data/train/t-shirt/\"\n",
        "name = \"00003aeb-ace5-43bf-9a0c-dc31a03e9cd2.jpg\"\n",
        "x = load_img(path+name, target_size=(299,299))\n",
        "x = np.array(x)"
      ],
      "metadata": {
        "id": "UJCqj4gRPCeF"
      },
      "execution_count": 9,
      "outputs": []
    },
    {
      "cell_type": "code",
      "source": [
        "train_gen = ImageDataGenerator(preprocessing_function=preprocess_input)\n",
        "train_ds=train_gen.flow_from_directory(\n",
        "    \"d/MyDrive/zoomcamps_ml/08_deep_learning/data/train/\",\n",
        "    target_size=(150,150),\n",
        "    batch_size=32\n",
        ")\n",
        "\n",
        "x,y = next(train_ds)\n",
        "x.shape()"
      ],
      "metadata": {
        "id": "PtmHuvMsPbqt",
        "colab": {
          "base_uri": "https://localhost:8080/"
        },
        "outputId": "f1373b39-91f0-4ff4-a3a4-ceebf13e61fd"
      },
      "execution_count": 11,
      "outputs": [
        {
          "output_type": "stream",
          "name": "stdout",
          "text": [
            "Found 3068 images belonging to 10 classes.\n"
          ]
        },
        {
          "output_type": "execute_result",
          "data": {
            "text/plain": [
              "(32, 150, 150, 3)"
            ]
          },
          "metadata": {},
          "execution_count": 11
        }
      ]
    },
    {
      "cell_type": "code",
      "source": [
        "valid_gen = ImageDataGenerator(preprocessing_function=preprocess_input)\n",
        "valid_ds=train_gen.flow_from_directory(\n",
        "    \"d/MyDrive/zoomcamps_ml/08_deep_learning/data/validation\",\n",
        "    target_size=(150,150),\n",
        "    batch_size=32,\n",
        "    shuffle=False,\n",
        ")"
      ],
      "metadata": {
        "id": "PtiqvolVPp32",
        "colab": {
          "base_uri": "https://localhost:8080/"
        },
        "outputId": "08d39ec0-3cdd-42a9-a4b9-b06744b41c7b"
      },
      "execution_count": 12,
      "outputs": [
        {
          "output_type": "stream",
          "name": "stdout",
          "text": [
            "Found 341 images belonging to 10 classes.\n"
          ]
        }
      ]
    },
    {
      "cell_type": "code",
      "source": [
        "base_model = Xception(\n",
        "    weights=\"imagenet\",\n",
        "    include_top=False,\n",
        "    input_shape=(150,150,3)\n",
        ")\n",
        "\n",
        "base_model.trainable = False\n",
        "\n",
        "inputs = keras.Input(shape=(150,150,3))\n",
        "base = base_model(inputs, training=False)\n",
        "vectors = keras.layers.GlobalAveragePooling2D()(base)\n",
        "outputs = keras.layers.Dense(10)(vectors)\n",
        "model = keras.Model(inputs, outputs)\n",
        "\n",
        "preds = model.predict(x)\n",
        "preds.shape"
      ],
      "metadata": {
        "id": "oPzM_gttPsLS",
        "colab": {
          "base_uri": "https://localhost:8080/"
        },
        "outputId": "b2edc871-a94a-406e-93bd-d13535a29af0"
      },
      "execution_count": 13,
      "outputs": [
        {
          "output_type": "stream",
          "name": "stdout",
          "text": [
            "Downloading data from https://storage.googleapis.com/tensorflow/keras-applications/xception/xception_weights_tf_dim_ordering_tf_kernels_notop.h5\n",
            "83683744/83683744 [==============================] - 1s 0us/step\n",
            "1/1 [==============================] - 10s 10s/step\n"
          ]
        },
        {
          "output_type": "execute_result",
          "data": {
            "text/plain": [
              "(32, 10)"
            ]
          },
          "metadata": {},
          "execution_count": 13
        }
      ]
    },
    {
      "cell_type": "code",
      "source": [
        "learning_rate = 0.01\n",
        "optimizer = keras.optimizers.Adam(learning_rate=learning_rate)\n",
        "loss = keras.losses.CategoricalCrossentropy(from_logits=True)\n",
        "\n",
        "model.compile(\n",
        "   optimizer=optimizer,\n",
        "   loss=loss,\n",
        "   metrics=['accuracy']\n",
        ")\n",
        "\n",
        "history = model.fit(\n",
        "    train_ds,\n",
        "    epochs=3,\n",
        "    validation_data=valid_ds\n",
        ")"
      ],
      "metadata": {
        "colab": {
          "base_uri": "https://localhost:8080/"
        },
        "id": "UAMdLa-IQtNF",
        "outputId": "fc21a7de-a6e8-47a0-d25a-f0ba4ca2e8d0"
      },
      "execution_count": 14,
      "outputs": [
        {
          "output_type": "stream",
          "name": "stdout",
          "text": [
            "Epoch 1/3\n",
            "96/96 [==============================] - 23s 170ms/step - loss: 1.2350 - accuracy: 0.6636 - val_loss: 1.0370 - val_accuracy: 0.7449\n",
            "Epoch 2/3\n",
            "96/96 [==============================] - 18s 186ms/step - loss: 0.5476 - accuracy: 0.8338 - val_loss: 0.7948 - val_accuracy: 0.7859\n",
            "Epoch 3/3\n",
            "96/96 [==============================] - 13s 139ms/step - loss: 0.3487 - accuracy: 0.8778 - val_loss: 1.1330 - val_accuracy: 0.7683\n"
          ]
        }
      ]
    },
    {
      "cell_type": "code",
      "source": [
        "plt.plot(history.history[\"accuracy\"], label=\"train\")\n",
        "plt.plot(history.history[\"val_accuracy\"], label=\"valid\")\n",
        "plt.legend();"
      ],
      "metadata": {
        "colab": {
          "base_uri": "https://localhost:8080/",
          "height": 430
        },
        "id": "FqfSJjmvQthX",
        "outputId": "e315277f-2caf-4bc4-83a2-64e7da1492a4"
      },
      "execution_count": 15,
      "outputs": [
        {
          "output_type": "display_data",
          "data": {
            "text/plain": [
              "<Figure size 640x480 with 1 Axes>"
            ],
            "image/png": "[encoded data removed]"
          },
          "metadata": {}
        }
      ]
    },
    {
      "cell_type": "code",
      "source": [
        "def make_model(learning_rate = 0.01):\n",
        "    base_model = Xception(\n",
        "        weights=\"imagenet\",\n",
        "        include_top=False,\n",
        "        input_shape=(150,150,3)\n",
        "    )\n",
        "\n",
        "    base_model.trainable = False\n",
        "\n",
        "    inputs = keras.Input(shape=(150,150,3))\n",
        "    base = base_model(inputs, training=False)\n",
        "    vectors = keras.layers.GlobalAveragePooling2D()(base)\n",
        "    outputs = keras.layers.Dense(10)(vectors)\n",
        "    model = keras.Model(inputs, outputs)\n",
        "\n",
        "    optimizer = keras.optimizers.Adam(learning_rate=learning_rate)\n",
        "    loss = keras.losses.CategoricalCrossentropy(from_logits=True)\n",
        "\n",
        "    model.compile(\n",
        "    optimizer=optimizer,\n",
        "    loss=loss,\n",
        "    metrics=['accuracy']\n",
        "    )\n",
        "\n",
        "    return model"
      ],
      "metadata": {
        "id": "xybaURuWQzUh"
      },
      "execution_count": 16,
      "outputs": []
    },
    {
      "cell_type": "code",
      "source": [
        "scores = {}\n",
        "\n",
        "for lr in [0.0001, 0.001, 0.01, 0.1]:\n",
        "    print(lr)\n",
        "\n",
        "    model = make_model(learning_rate=lr)\n",
        "    history = model.fit(\n",
        "        train_ds,\n",
        "        epochs=3,\n",
        "        validation_data=valid_ds\n",
        "    )\n",
        "    scores[lr] = history.history['val_accuracy']\n",
        "    print()"
      ],
      "metadata": {
        "colab": {
          "base_uri": "https://localhost:8080/"
        },
        "id": "T1cLd0ZkQ2Xs",
        "outputId": "3da5c9c2-f243-417f-f209-9450003e81e9"
      },
      "execution_count": 17,
      "outputs": [
        {
          "output_type": "stream",
          "name": "stdout",
          "text": [
            "0.0001\n",
            "Epoch 1/3\n",
            "96/96 [==============================] - 19s 156ms/step - loss: 1.8637 - accuracy: 0.3726 - val_loss: 1.5315 - val_accuracy: 0.5044\n",
            "Epoch 2/3\n",
            "96/96 [==============================] - 15s 155ms/step - loss: 1.3498 - accuracy: 0.5655 - val_loss: 1.2104 - val_accuracy: 0.6129\n",
            "Epoch 3/3\n",
            "96/96 [==============================] - 14s 149ms/step - loss: 1.1211 - accuracy: 0.6447 - val_loss: 1.0432 - val_accuracy: 0.6804\n",
            "\n",
            "0.001\n",
            "Epoch 1/3\n",
            "96/96 [==============================] - 17s 150ms/step - loss: 1.0951 - accuracy: 0.6333 - val_loss: 0.7286 - val_accuracy: 0.7801\n",
            "Epoch 2/3\n",
            "96/96 [==============================] - 19s 193ms/step - loss: 0.6326 - accuracy: 0.7813 - val_loss: 0.6298 - val_accuracy: 0.7977\n",
            "Epoch 3/3\n",
            "96/96 [==============================] - 15s 155ms/step - loss: 0.5065 - accuracy: 0.8360 - val_loss: 0.5817 - val_accuracy: 0.8123\n",
            "\n",
            "0.01\n",
            "Epoch 1/3\n",
            "96/96 [==============================] - 17s 149ms/step - loss: 1.2385 - accuracy: 0.6721 - val_loss: 0.8473 - val_accuracy: 0.7126\n",
            "Epoch 2/3\n",
            "96/96 [==============================] - 13s 137ms/step - loss: 0.5148 - accuracy: 0.8282 - val_loss: 0.8250 - val_accuracy: 0.7918\n",
            "Epoch 3/3\n",
            "96/96 [==============================] - 13s 137ms/step - loss: 0.3583 - accuracy: 0.8778 - val_loss: 0.8983 - val_accuracy: 0.7918\n",
            "\n",
            "0.1\n",
            "Epoch 1/3\n",
            "96/96 [==============================] - 19s 154ms/step - loss: 11.4572 - accuracy: 0.6281 - val_loss: 6.8558 - val_accuracy: 0.7478\n",
            "Epoch 2/3\n",
            "96/96 [==============================] - 14s 146ms/step - loss: 6.5595 - accuracy: 0.7604 - val_loss: 8.5444 - val_accuracy: 0.7126\n",
            "Epoch 3/3\n",
            "96/96 [==============================] - 14s 144ms/step - loss: 3.9622 - accuracy: 0.8266 - val_loss: 7.6328 - val_accuracy: 0.7713\n",
            "\n"
          ]
        }
      ]
    },
    {
      "cell_type": "code",
      "source": [
        "# model.save_weights(\"model_v1.h5\", save_format=\"h5\")\n",
        "checkpoint = keras.callbacks.ModelCheckpoint(\n",
        "    \"xception_v1_{epoch:02d}_{val_accuracy:.3f}.h5\",\n",
        "    save_best_only=True,\n",
        "    monitor=\"val_accuracy\",\n",
        "    mode=\"max\"\n",
        ")\n",
        "\n",
        "learning_rate = 0.001\n",
        "\n",
        "model = make_model(learning_rate=learning_rate)\n",
        "history = model.fit(\n",
        "    train_ds,\n",
        "    epochs=10,\n",
        "    validation_data=valid_ds,\n",
        "    callbacks=[checkpoint]\n",
        ")"
      ],
      "metadata": {
        "colab": {
          "base_uri": "https://localhost:8080/"
        },
        "id": "CyHWEQ9sQ3IU",
        "outputId": "eb246ba8-a9a0-471a-d8b1-167651906f45"
      },
      "execution_count": 20,
      "outputs": [
        {
          "output_type": "stream",
          "name": "stdout",
          "text": [
            "Epoch 1/10\n",
            "96/96 [==============================] - ETA: 0s - loss: 1.0807 - accuracy: 0.6304"
          ]
        },
        {
          "output_type": "stream",
          "name": "stderr",
          "text": [
            "/usr/local/lib/python3.10/dist-packages/keras/src/engine/training.py:3079: UserWarning: You are saving your model as an HDF5 file via `model.save()`. This file format is considered legacy. We recommend using instead the native Keras format, e.g. `model.save('my_model.keras')`.\n",
            "  saving_api.save_model(\n"
          ]
        },
        {
          "output_type": "stream",
          "name": "stdout",
          "text": [
            "\b\b\b\b\b\b\b\b\b\b\b\b\b\b\b\b\b\b\b\b\b\b\b\b\b\b\b\b\b\b\b\b\b\b\b\b\b\b\b\b\b\b\b\b\b\b\b\b\b\b\b\b\b\b\b\b\b\b\b\b\b\b\b\b\b\b\b\b\b\b\b\b\b\b\b\b\b\b\b\b\b\b\r96/96 [==============================] - 18s 160ms/step - loss: 1.0807 - accuracy: 0.6304 - val_loss: 0.7040 - val_accuracy: 0.7742\n",
            "Epoch 2/10\n",
            "96/96 [==============================] - 13s 134ms/step - loss: 0.6239 - accuracy: 0.7888 - val_loss: 0.6240 - val_accuracy: 0.8065\n",
            "Epoch 3/10\n",
            "96/96 [==============================] - 13s 136ms/step - loss: 0.5056 - accuracy: 0.8299 - val_loss: 0.5878 - val_accuracy: 0.7977\n",
            "Epoch 4/10\n",
            "96/96 [==============================] - 16s 162ms/step - loss: 0.4278 - accuracy: 0.8641 - val_loss: 0.5661 - val_accuracy: 0.8123\n",
            "Epoch 5/10\n",
            "96/96 [==============================] - 14s 141ms/step - loss: 0.3688 - accuracy: 0.8862 - val_loss: 0.5433 - val_accuracy: 0.8270\n",
            "Epoch 6/10\n",
            "96/96 [==============================] - 13s 137ms/step - loss: 0.3220 - accuracy: 0.9104 - val_loss: 0.5367 - val_accuracy: 0.8270\n",
            "Epoch 7/10\n",
            "96/96 [==============================] - 13s 134ms/step - loss: 0.2891 - accuracy: 0.9221 - val_loss: 0.5487 - val_accuracy: 0.8006\n",
            "Epoch 8/10\n",
            "96/96 [==============================] - 13s 133ms/step - loss: 0.2593 - accuracy: 0.9332 - val_loss: 0.5282 - val_accuracy: 0.8240\n",
            "Epoch 9/10\n",
            "96/96 [==============================] - 13s 138ms/step - loss: 0.2269 - accuracy: 0.9452 - val_loss: 0.5345 - val_accuracy: 0.8182\n",
            "Epoch 10/10\n",
            "96/96 [==============================] - 13s 136ms/step - loss: 0.2097 - accuracy: 0.9518 - val_loss: 0.5582 - val_accuracy: 0.8211\n"
          ]
        }
      ]
    },
    {
      "cell_type": "code",
      "source": [
        "def make_model(learning_rate = 0.01, size_inner=100):\n",
        "    base_model = Xception(\n",
        "        weights=\"imagenet\",\n",
        "        include_top=False,\n",
        "        input_shape=(150,150,3)\n",
        "    )\n",
        "\n",
        "    base_model.trainable = False\n",
        "\n",
        "    inputs = keras.Input(shape=(150,150,3))\n",
        "    base = base_model(inputs, training=False)\n",
        "    vectors = keras.layers.GlobalAveragePooling2D()(base)\n",
        "    inner = keras.layers.Dense(size_inner, activation=\"relu\")(vectors)\n",
        "    outputs = keras.layers.Dense(10)(inner)\n",
        "    model = keras.Model(inputs, outputs)\n",
        "\n",
        "    optimizer = keras.optimizers.Adam(learning_rate=learning_rate)\n",
        "    loss = keras.losses.CategoricalCrossentropy(from_logits=True)\n",
        "\n",
        "    model.compile(\n",
        "    optimizer=optimizer,\n",
        "    loss=loss,\n",
        "    metrics=['accuracy']\n",
        "    )\n",
        "\n",
        "    return model"
      ],
      "metadata": {
        "id": "zeUO4g_qVrvs"
      },
      "execution_count": 23,
      "outputs": []
    },
    {
      "cell_type": "code",
      "source": [
        "learning_rate = 0.001\n",
        "\n",
        "scores = {}\n",
        "\n",
        "for size in [10, 100, 1000]:\n",
        "    print(size)\n",
        "\n",
        "    model = make_model(learning_rate=learning_rate, size_inner=size)\n",
        "    history = model.fit(\n",
        "        train_ds,\n",
        "        epochs=3,\n",
        "        validation_data=valid_ds\n",
        "    )\n",
        "    scores[size] = history.history#['val_accuracy']\n",
        "    print()"
      ],
      "metadata": {
        "colab": {
          "base_uri": "https://localhost:8080/"
        },
        "id": "sIcGh3lzRv8B",
        "outputId": "df3c4ef5-90e2-4822-f6ae-eb3e448898f0"
      },
      "execution_count": 24,
      "outputs": [
        {
          "output_type": "stream",
          "name": "stdout",
          "text": [
            "10\n",
            "Epoch 1/3\n",
            "96/96 [==============================] - 18s 141ms/step - loss: 1.4037 - accuracy: 0.5427 - val_loss: 0.9841 - val_accuracy: 0.6745\n",
            "Epoch 2/3\n",
            "96/96 [==============================] - 12s 129ms/step - loss: 0.8227 - accuracy: 0.7168 - val_loss: 0.7262 - val_accuracy: 0.7654\n",
            "Epoch 3/3\n",
            "96/96 [==============================] - 13s 136ms/step - loss: 0.6171 - accuracy: 0.7947 - val_loss: 0.6589 - val_accuracy: 0.7889\n",
            "\n",
            "100\n",
            "Epoch 1/3\n",
            "96/96 [==============================] - 20s 140ms/step - loss: 0.9854 - accuracy: 0.6682 - val_loss: 0.6372 - val_accuracy: 0.7801\n",
            "Epoch 2/3\n",
            "96/96 [==============================] - 13s 139ms/step - loss: 0.5179 - accuracy: 0.8246 - val_loss: 0.5673 - val_accuracy: 0.8123\n",
            "Epoch 3/3\n",
            "96/96 [==============================] - 13s 138ms/step - loss: 0.3525 - accuracy: 0.8830 - val_loss: 0.5733 - val_accuracy: 0.7889\n",
            "\n",
            "1000\n",
            "Epoch 1/3\n",
            "96/96 [==============================] - 17s 146ms/step - loss: 0.9188 - accuracy: 0.6900 - val_loss: 0.6371 - val_accuracy: 0.7859\n",
            "Epoch 2/3\n",
            "96/96 [==============================] - 12s 130ms/step - loss: 0.4246 - accuracy: 0.8471 - val_loss: 0.5647 - val_accuracy: 0.8065\n",
            "Epoch 3/3\n",
            "96/96 [==============================] - 13s 131ms/step - loss: 0.2703 - accuracy: 0.9012 - val_loss: 0.6121 - val_accuracy: 0.7947\n",
            "\n"
          ]
        }
      ]
    },
    {
      "cell_type": "code",
      "source": [
        "for size, hist in scores.items():\n",
        "    plt.plot(hist[\"val_accuracy\"], label=(\"val=%s\"%size))\n",
        "plt.legend();"
      ],
      "metadata": {
        "colab": {
          "base_uri": "https://localhost:8080/",
          "height": 430
        },
        "id": "THGsz7MHeYvP",
        "outputId": "15af40d7-7196-4bdd-ccd8-e607ac78f994"
      },
      "execution_count": 25,
      "outputs": [
        {
          "output_type": "display_data",
          "data": {
            "text/plain": [
              "<Figure size 640x480 with 1 Axes>"
            ],
            "image/png": "[encoded data removed]"
          },
          "metadata": {}
        }
      ]
    },
    {
      "cell_type": "code",
      "source": [
        "def make_model(learning_rate = 0.01, size_inner=100, droprate=0.5):\n",
        "    base_model = Xception(\n",
        "        weights=\"imagenet\",\n",
        "        include_top=False,\n",
        "        input_shape=(150,150,3)\n",
        "    )\n",
        "\n",
        "    base_model.trainable = False\n",
        "\n",
        "    inputs = keras.Input(shape=(150,150,3))\n",
        "    base = base_model(inputs, training=False)\n",
        "    vectors = keras.layers.GlobalAveragePooling2D()(base)\n",
        "    inner = keras.layers.Dense(size_inner, activation=\"relu\")(vectors)\n",
        "    drop = keras.layers.Dropout(droprate)(inner)\n",
        "    outputs = keras.layers.Dense(10)(drop)\n",
        "    model = keras.Model(inputs, outputs)\n",
        "\n",
        "    optimizer = keras.optimizers.Adam(learning_rate=learning_rate)\n",
        "    loss = keras.losses.CategoricalCrossentropy(from_logits=True)\n",
        "\n",
        "    model.compile(\n",
        "    optimizer=optimizer,\n",
        "    loss=loss,\n",
        "    metrics=['accuracy']\n",
        "    )\n",
        "\n",
        "    return model"
      ],
      "metadata": {
        "id": "LLnv9nXhe5Gr"
      },
      "execution_count": 26,
      "outputs": []
    },
    {
      "cell_type": "code",
      "source": [
        "learning_rate = 0.001\n",
        "size_inner = 100\n",
        "scores = {}\n",
        "\n",
        "for droprate in [0.0, 0.2, 0.5, 0.8]:\n",
        "    print(droprate)\n",
        "\n",
        "    model = make_model(\n",
        "        learning_rate=learning_rate,\n",
        "        size_inner=size_inner,\n",
        "        droprate=droprate\n",
        "    )\n",
        "    history = model.fit(\n",
        "        train_ds,\n",
        "        epochs=3,\n",
        "        validation_data=valid_ds\n",
        "    )\n",
        "    scores[droprate] = history.history#['val_accuracy']\n",
        "    print()"
      ],
      "metadata": {
        "colab": {
          "base_uri": "https://localhost:8080/"
        },
        "id": "gMvDmPSBhWVZ",
        "outputId": "94546a0f-2d3d-4bde-91b7-0c53157dd471"
      },
      "execution_count": 28,
      "outputs": [
        {
          "output_type": "stream",
          "name": "stdout",
          "text": [
            "1000\n",
            "Epoch 1/3\n",
            "96/96 [==============================] - 20s 159ms/step - loss: 0.9381 - accuracy: 0.6829 - val_loss: 0.6134 - val_accuracy: 0.7947\n",
            "Epoch 2/3\n",
            "96/96 [==============================] - 13s 134ms/step - loss: 0.5002 - accuracy: 0.8292 - val_loss: 0.6061 - val_accuracy: 0.8035\n",
            "Epoch 3/3\n",
            "96/96 [==============================] - 13s 139ms/step - loss: 0.3499 - accuracy: 0.8875 - val_loss: 0.5915 - val_accuracy: 0.8152\n",
            "\n",
            "1000\n",
            "Epoch 1/3\n",
            "96/96 [==============================] - 21s 157ms/step - loss: 1.0781 - accuracy: 0.6392 - val_loss: 0.6990 - val_accuracy: 0.7947\n",
            "Epoch 2/3\n",
            "96/96 [==============================] - 14s 145ms/step - loss: 0.6119 - accuracy: 0.7852 - val_loss: 0.6101 - val_accuracy: 0.7977\n",
            "Epoch 3/3\n",
            "96/96 [==============================] - 13s 138ms/step - loss: 0.4568 - accuracy: 0.8435 - val_loss: 0.5746 - val_accuracy: 0.7918\n",
            "\n",
            "1000\n",
            "Epoch 1/3\n",
            "96/96 [==============================] - 20s 174ms/step - loss: 1.2724 - accuracy: 0.5772 - val_loss: 0.7511 - val_accuracy: 0.7625\n",
            "Epoch 2/3\n",
            "96/96 [==============================] - 13s 139ms/step - loss: 0.8420 - accuracy: 0.7070 - val_loss: 0.6628 - val_accuracy: 0.7889\n",
            "Epoch 3/3\n",
            "96/96 [==============================] - 16s 171ms/step - loss: 0.6951 - accuracy: 0.7617 - val_loss: 0.6033 - val_accuracy: 0.8094\n",
            "\n",
            "1000\n",
            "Epoch 1/3\n",
            "96/96 [==============================] - 20s 145ms/step - loss: 1.8297 - accuracy: 0.4009 - val_loss: 1.1571 - val_accuracy: 0.6569\n",
            "Epoch 2/3\n",
            "96/96 [==============================] - 13s 137ms/step - loss: 1.4149 - accuracy: 0.5075 - val_loss: 0.9399 - val_accuracy: 0.7009\n",
            "Epoch 3/3\n",
            "96/96 [==============================] - 13s 137ms/step - loss: 1.2732 - accuracy: 0.5411 - val_loss: 0.9187 - val_accuracy: 0.6891\n",
            "\n"
          ]
        }
      ]
    },
    {
      "cell_type": "code",
      "source": [
        "for droprate, hist in scores.items():\n",
        "    plt.plot(hist[\"val_accuracy\"], label=(\"val=%s\"%droprate))\n",
        "plt.legend();"
      ],
      "metadata": {
        "colab": {
          "base_uri": "https://localhost:8080/",
          "height": 430
        },
        "id": "X1C7-dWGhrry",
        "outputId": "f4b27dc3-1f27-445e-f351-f3cf2b6de5bb"
      },
      "execution_count": 29,
      "outputs": [
        {
          "output_type": "display_data",
          "data": {
            "text/plain": [
              "<Figure size 640x480 with 1 Axes>"
            ],
            "image/png": "[encoded data removed]"
          },
          "metadata": {}
        }
      ]
    },
    {
      "cell_type": "code",
      "source": [
        "train_gen = ImageDataGenerator(preprocessing_function=preprocess_input,\n",
        "                               rotation_range=30,\n",
        "                               width_shift_range=10.0,\n",
        "                               height_shift_range=10.0,\n",
        "                               shear_range=10,\n",
        "                               zoom_range=0.1,\n",
        "                               vertical_flip=True)\n",
        "\n",
        "train_ds = train_gen.flow_from_directory(\n",
        "    \"d/MyDrive/zoomcamps_ml/08_deep_learning/data/train\",\n",
        "    target_size=(150, 150),\n",
        "    batch_size=32\n",
        ")\n",
        "\n",
        "val_gen = ImageDataGenerator(preprocessing_function=preprocess_input)\n",
        "\n",
        "val_ds = val_gen.flow_from_directory(\n",
        "    \"d/MyDrive/zoomcamps_ml/08_deep_learning/data/validation\",\n",
        "    target_size=(150, 150),\n",
        "    batch_size=32,\n",
        "    shuffle=False\n",
        ")\n",
        "\n",
        "learning_rate = 0.001\n",
        "size = 100\n",
        "droprate = 0.2\n",
        "\n",
        "model = make_model(\n",
        "    learning_rate=learning_rate,\n",
        "    size_inner=size,\n",
        "    droprate=droprate\n",
        ")\n",
        "\n",
        "history = model.fit(train_ds, epochs=50, validation_data=val_ds)\n",
        "\n",
        "hist = history.history\n",
        "plt.plot(hist['val_accuracy'], label='val')\n",
        "plt.plot(hist['accuracy'], label='train')\n",
        "\n",
        "plt.legend()"
      ],
      "metadata": {
        "id": "p1MdB0nijCh_"
      },
      "execution_count": null,
      "outputs": []
    },
    {
      "cell_type": "code",
      "source": [
        "import tensorflow as tf\n",
        "from tensorflow import keras\n",
        "\n",
        "from tensorflow.keras.preprocessing.image import ImageDataGenerator\n",
        "from tensorflow.keras.preprocessing.image import load_img\n",
        "\n",
        "from tensorflow.keras.applications.xception import preprocess_input\n",
        "\n",
        "test_gen = ImageDataGenerator(preprocessing_function=preprocess_input)\n",
        "\n",
        "test_ds = test_gen.flow_from_directory(\n",
        "    \"d/MyDrive/zoomcamps_ml/08_deep_learning/data/test\",\n",
        "    target_size=(299, 299),\n",
        "    batch_size=32,\n",
        "    shuffle=False\n",
        ")\n",
        "\n",
        "model = keras.models.load_model('xception_v4_1_13_0.903.h5')\n",
        "model.evaluate(test_ds)"
      ],
      "metadata": {
        "id": "I90DBulMowBX"
      },
      "execution_count": null,
      "outputs": []
    },
    {
      "cell_type": "code",
      "source": [
        "path = \"d/MyDrive/zoomcamps_ml/08_deep_learning/data/test/pants/c8d21106-bbdb-4e8d-83e4-bf3d14e54c16.jpg'\n",
        "img = load_img(path, target_size=(299, 299))\n",
        "x = np.array(img)\n",
        "x = np.array([x])\n",
        "x = preprocess_input(x)\n",
        "pred = model.predict(x)\n",
        "\n",
        "classes = [\n",
        "    'dress',\n",
        "    'hat',\n",
        "    'longsleeve',\n",
        "    'outwear',\n",
        "    'pants',\n",
        "    'shirt',\n",
        "    'shoes',\n",
        "    'shorts',\n",
        "    'skirt',\n",
        "    't-shirt'\n",
        "]\n",
        "\n",
        "dict(zip(classes, pred[0]))"
      ],
      "metadata": {
        "id": "qBGK27DOpAd4"
      },
      "execution_count": null,
      "outputs": []
    }
  ]
}