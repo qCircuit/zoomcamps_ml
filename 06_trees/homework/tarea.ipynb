{
 "cells": [
  {
   "cell_type": "code",
   "execution_count": 1,
   "metadata": {},
   "outputs": [
    {
     "name": "stdout",
     "output_type": "stream",
     "text": [
      "/bin/bash: /home/hilbert/anaconda3/lib/libtinfo.so.6: no version information available (required by /bin/bash)\n",
      "--2023-10-23 17:11:01--  https://raw.githubusercontent.com/alexeygrigorev/datasets/master/housing.csv\n",
      "Resolving raw.githubusercontent.com (raw.githubusercontent.com)... 185.199.111.133, 185.199.109.133, 185.199.110.133, ...\n",
      "Connecting to raw.githubusercontent.com (raw.githubusercontent.com)|185.199.111.133|:443... connected.\n",
      "HTTP request sent, awaiting response... 200 OK\n",
      "Length: 1423529 (1,4M) [text/plain]\n",
      "Saving to: ‘housing.csv’\n",
      "\n",
      "housing.csv         100%[===================>]   1,36M  4,34MB/s    in 0,3s    \n",
      "\n",
      "2023-10-23 17:11:02 (4,34 MB/s) - ‘housing.csv’ saved [1423529/1423529]\n",
      "\n"
     ]
    }
   ],
   "source": [
    "!wget https://raw.githubusercontent.com/alexeygrigorev/datasets/master/housing.csv"
   ]
  },
  {
   "cell_type": "code",
   "execution_count": 40,
   "metadata": {},
   "outputs": [],
   "source": [
    "import matplotlib.pyplot as plt\n",
    "import numpy as np\n",
    "import pandas as pd\n",
    "import seaborn as sns\n",
    "import xgboost as xgb\n",
    "\n",
    "from sklearn.ensemble import RandomForestRegressor\n",
    "from sklearn.feature_extraction import DictVectorizer\n",
    "from sklearn.metrics import mean_squared_error\n",
    "from sklearn.model_selection import train_test_split\n",
    "from sklearn.tree import DecisionTreeRegressor, export_text"
   ]
  },
  {
   "cell_type": "code",
   "execution_count": 10,
   "metadata": {},
   "outputs": [
    {
     "name": "stdout",
     "output_type": "stream",
     "text": [
      "(15687, 10)\n"
     ]
    }
   ],
   "source": [
    "df = pd.read_csv(\"housing.csv\")\n",
    "df = df[df.ocean_proximity.isin([\"<1H OCEAN\", \"INLAND\"])].reset_index(drop=True)\n",
    "print(df.shape)"
   ]
  },
  {
   "cell_type": "code",
   "execution_count": 11,
   "metadata": {},
   "outputs": [],
   "source": [
    "## preprocessing \n",
    "\n",
    "# fill empty values with 0\n",
    "df = df.fillna(0)\n",
    "df.median_house_value = np.log1p(df.median_house_value.values)\n",
    "\n",
    "# train test split\n",
    "df_full_train, df_test = train_test_split(df, test_size=0.2, random_state=1)\n",
    "df_train, df_val = train_test_split(df_full_train, test_size=0.25, random_state=1)\n",
    "\n",
    "df_train = df_train.reset_index(drop=True)\n",
    "df_val = df_val.reset_index(drop=True)\n",
    "df_test = df_test.reset_index(drop=True)\n",
    "\n",
    "# xtract target features\n",
    "ytr = df_train.median_house_value.values\n",
    "yvl = df_val.median_house_value.values\n",
    "yts = df_test.median_house_value.values\n",
    "\n",
    "del df_train[\"median_house_value\"]\n",
    "del df_val[\"median_house_value\"]\n",
    "del df_test[\"median_house_value\"]\n",
    "\n",
    "# encode categorical features\n",
    "dv = DictVectorizer(sparse=False)\n",
    "\n",
    "train_dicts = df_train.to_dict(orient=\"records\")\n",
    "xtr = dv.fit_transform(train_dicts)\n",
    "\n",
    "val_dicts = df_val.to_dict(orient=\"records\")\n",
    "xvl =  dv.fit_transform(val_dicts)\n",
    "\n",
    "test_dicts = df_test.to_dict(orient=\"records\")\n",
    "xts =  dv.fit_transform(test_dicts)"
   ]
  },
  {
   "cell_type": "markdown",
   "metadata": {},
   "source": [
    "## Q1"
   ]
  },
  {
   "cell_type": "code",
   "execution_count": 14,
   "metadata": {},
   "outputs": [
    {
     "data": {
      "text/html": [
       "<style>#sk-container-id-1 {color: black;background-color: white;}#sk-container-id-1 pre{padding: 0;}#sk-container-id-1 div.sk-toggleable {background-color: white;}#sk-container-id-1 label.sk-toggleable__label {cursor: pointer;display: block;width: 100%;margin-bottom: 0;padding: 0.3em;box-sizing: border-box;text-align: center;}#sk-container-id-1 label.sk-toggleable__label-arrow:before {content: \"▸\";float: left;margin-right: 0.25em;color: #696969;}#sk-container-id-1 label.sk-toggleable__label-arrow:hover:before {color: black;}#sk-container-id-1 div.sk-estimator:hover label.sk-toggleable__label-arrow:before {color: black;}#sk-container-id-1 div.sk-toggleable__content {max-height: 0;max-width: 0;overflow: hidden;text-align: left;background-color: #f0f8ff;}#sk-container-id-1 div.sk-toggleable__content pre {margin: 0.2em;color: black;border-radius: 0.25em;background-color: #f0f8ff;}#sk-container-id-1 input.sk-toggleable__control:checked~div.sk-toggleable__content {max-height: 200px;max-width: 100%;overflow: auto;}#sk-container-id-1 input.sk-toggleable__control:checked~label.sk-toggleable__label-arrow:before {content: \"▾\";}#sk-container-id-1 div.sk-estimator input.sk-toggleable__control:checked~label.sk-toggleable__label {background-color: #d4ebff;}#sk-container-id-1 div.sk-label input.sk-toggleable__control:checked~label.sk-toggleable__label {background-color: #d4ebff;}#sk-container-id-1 input.sk-hidden--visually {border: 0;clip: rect(1px 1px 1px 1px);clip: rect(1px, 1px, 1px, 1px);height: 1px;margin: -1px;overflow: hidden;padding: 0;position: absolute;width: 1px;}#sk-container-id-1 div.sk-estimator {font-family: monospace;background-color: #f0f8ff;border: 1px dotted black;border-radius: 0.25em;box-sizing: border-box;margin-bottom: 0.5em;}#sk-container-id-1 div.sk-estimator:hover {background-color: #d4ebff;}#sk-container-id-1 div.sk-parallel-item::after {content: \"\";width: 100%;border-bottom: 1px solid gray;flex-grow: 1;}#sk-container-id-1 div.sk-label:hover label.sk-toggleable__label {background-color: #d4ebff;}#sk-container-id-1 div.sk-serial::before {content: \"\";position: absolute;border-left: 1px solid gray;box-sizing: border-box;top: 0;bottom: 0;left: 50%;z-index: 0;}#sk-container-id-1 div.sk-serial {display: flex;flex-direction: column;align-items: center;background-color: white;padding-right: 0.2em;padding-left: 0.2em;position: relative;}#sk-container-id-1 div.sk-item {position: relative;z-index: 1;}#sk-container-id-1 div.sk-parallel {display: flex;align-items: stretch;justify-content: center;background-color: white;position: relative;}#sk-container-id-1 div.sk-item::before, #sk-container-id-1 div.sk-parallel-item::before {content: \"\";position: absolute;border-left: 1px solid gray;box-sizing: border-box;top: 0;bottom: 0;left: 50%;z-index: -1;}#sk-container-id-1 div.sk-parallel-item {display: flex;flex-direction: column;z-index: 1;position: relative;background-color: white;}#sk-container-id-1 div.sk-parallel-item:first-child::after {align-self: flex-end;width: 50%;}#sk-container-id-1 div.sk-parallel-item:last-child::after {align-self: flex-start;width: 50%;}#sk-container-id-1 div.sk-parallel-item:only-child::after {width: 0;}#sk-container-id-1 div.sk-dashed-wrapped {border: 1px dashed gray;margin: 0 0.4em 0.5em 0.4em;box-sizing: border-box;padding-bottom: 0.4em;background-color: white;}#sk-container-id-1 div.sk-label label {font-family: monospace;font-weight: bold;display: inline-block;line-height: 1.2em;}#sk-container-id-1 div.sk-label-container {text-align: center;}#sk-container-id-1 div.sk-container {/* jupyter's `normalize.less` sets `[hidden] { display: none; }` but bootstrap.min.css set `[hidden] { display: none !important; }` so we also need the `!important` here to be able to override the default hidden behavior on the sphinx rendered scikit-learn.org. See: https://github.com/scikit-learn/scikit-learn/issues/21755 */display: inline-block !important;position: relative;}#sk-container-id-1 div.sk-text-repr-fallback {display: none;}</style><div id=\"sk-container-id-1\" class=\"sk-top-container\"><div class=\"sk-text-repr-fallback\"><pre>DecisionTreeRegressor(max_depth=1)</pre><b>In a Jupyter environment, please rerun this cell to show the HTML representation or trust the notebook. <br />On GitHub, the HTML representation is unable to render, please try loading this page with nbviewer.org.</b></div><div class=\"sk-container\" hidden><div class=\"sk-item\"><div class=\"sk-estimator sk-toggleable\"><input class=\"sk-toggleable__control sk-hidden--visually\" id=\"sk-estimator-id-1\" type=\"checkbox\" checked><label for=\"sk-estimator-id-1\" class=\"sk-toggleable__label sk-toggleable__label-arrow\">DecisionTreeRegressor</label><div class=\"sk-toggleable__content\"><pre>DecisionTreeRegressor(max_depth=1)</pre></div></div></div></div></div>"
      ],
      "text/plain": [
       "DecisionTreeRegressor(max_depth=1)"
      ]
     },
     "execution_count": 14,
     "metadata": {},
     "output_type": "execute_result"
    }
   ],
   "source": [
    "dt = DecisionTreeRegressor(max_depth=1)\n",
    "dt.fit(xtr, ytr)"
   ]
  },
  {
   "cell_type": "code",
   "execution_count": 16,
   "metadata": {},
   "outputs": [
    {
     "data": {
      "text/plain": [
       "'|--- feature_5 <= 0.50\\n|   |--- value: [11.61]\\n|--- feature_5 >  0.50\\n|   |--- value: [12.30]\\n'"
      ]
     },
     "execution_count": 16,
     "metadata": {},
     "output_type": "execute_result"
    }
   ],
   "source": [
    "export_text(dt)"
   ]
  },
  {
   "cell_type": "code",
   "execution_count": 39,
   "metadata": {},
   "outputs": [
    {
     "name": "stdout",
     "output_type": "stream",
     "text": [
      "ocean_proximity=<1H OCEAN\n"
     ]
    }
   ],
   "source": [
    "print(dv.get_feature_names_out()[5])"
   ]
  },
  {
   "cell_type": "markdown",
   "metadata": {},
   "source": [
    "## Q2"
   ]
  },
  {
   "cell_type": "code",
   "execution_count": 23,
   "metadata": {},
   "outputs": [
    {
     "name": "stdout",
     "output_type": "stream",
     "text": [
      "0.244910835217013\n"
     ]
    }
   ],
   "source": [
    "rf = RandomForestRegressor(\n",
    "    n_estimators=10,\n",
    "    random_state=1,\n",
    "    n_jobs=-1\n",
    ")\n",
    "\n",
    "rf.fit(xtr, ytr)\n",
    "\n",
    "print(mean_squared_error(yvl, rf.predict(xvl), squared=False))"
   ]
  },
  {
   "cell_type": "markdown",
   "metadata": {},
   "source": [
    "## Q3"
   ]
  },
  {
   "cell_type": "code",
   "execution_count": 24,
   "metadata": {},
   "outputs": [
    {
     "name": "stdout",
     "output_type": "stream",
     "text": [
      "  10 -> 0.245\n",
      "  20 -> 0.238\n",
      "  30 -> 0.236\n",
      "  40 -> 0.235\n",
      "  50 -> 0.234\n",
      "  60 -> 0.234\n",
      "  70 -> 0.234\n",
      "  80 -> 0.234\n",
      "  90 -> 0.234\n",
      " 100 -> 0.234\n",
      " 110 -> 0.234\n",
      " 120 -> 0.234\n",
      " 130 -> 0.234\n",
      " 140 -> 0.234\n",
      " 150 -> 0.233\n",
      " 160 -> 0.233\n",
      " 170 -> 0.233\n",
      " 180 -> 0.234\n",
      " 190 -> 0.234\n",
      " 200 -> 0.234\n"
     ]
    }
   ],
   "source": [
    "for n in range(10, 201, 10):\n",
    "    rf = RandomForestRegressor(\n",
    "        n_estimators=n,\n",
    "        random_state=1,\n",
    "        n_jobs=-1\n",
    "    )\n",
    "\n",
    "    rf.fit(xtr, ytr)\n",
    "    rmse = mean_squared_error(yvl, rf.predict(xvl), squared=False)\n",
    "    print(\"%4s -> %.3f\" % (n, rmse))"
   ]
  },
  {
   "cell_type": "markdown",
   "metadata": {},
   "source": [
    "## Q4"
   ]
  },
  {
   "cell_type": "code",
   "execution_count": 25,
   "metadata": {},
   "outputs": [],
   "source": [
    "scores = []\n",
    "\n",
    "for md in [10, 15, 20, 25]:\n",
    "    for n in range(10, 201, 10):\n",
    "        rf = RandomForestRegressor(\n",
    "            n_estimators=n,\n",
    "            random_state=1,\n",
    "            n_jobs=-1\n",
    "        )\n",
    "\n",
    "        rf.fit(xtr, ytr)\n",
    "        rmse = mean_squared_error(yvl, rf.predict(xvl), squared=False)\n",
    "        scores.append((md, n, rmse))"
   ]
  },
  {
   "cell_type": "code",
   "execution_count": 26,
   "metadata": {},
   "outputs": [
    {
     "data": {
      "text/html": [
       "<div>\n",
       "<style scoped>\n",
       "    .dataframe tbody tr th:only-of-type {\n",
       "        vertical-align: middle;\n",
       "    }\n",
       "\n",
       "    .dataframe tbody tr th {\n",
       "        vertical-align: top;\n",
       "    }\n",
       "\n",
       "    .dataframe thead tr th {\n",
       "        text-align: left;\n",
       "    }\n",
       "\n",
       "    .dataframe thead tr:last-of-type th {\n",
       "        text-align: right;\n",
       "    }\n",
       "</style>\n",
       "<table border=\"1\" class=\"dataframe\">\n",
       "  <thead>\n",
       "    <tr>\n",
       "      <th></th>\n",
       "      <th colspan=\"4\" halign=\"left\">rmse</th>\n",
       "    </tr>\n",
       "    <tr>\n",
       "      <th>max_depth</th>\n",
       "      <th>10</th>\n",
       "      <th>15</th>\n",
       "      <th>20</th>\n",
       "      <th>25</th>\n",
       "    </tr>\n",
       "    <tr>\n",
       "      <th>n_estimators</th>\n",
       "      <th></th>\n",
       "      <th></th>\n",
       "      <th></th>\n",
       "      <th></th>\n",
       "    </tr>\n",
       "  </thead>\n",
       "  <tbody>\n",
       "    <tr>\n",
       "      <th>10</th>\n",
       "      <td>0.244911</td>\n",
       "      <td>0.244911</td>\n",
       "      <td>0.244911</td>\n",
       "      <td>0.244911</td>\n",
       "    </tr>\n",
       "    <tr>\n",
       "      <th>20</th>\n",
       "      <td>0.238384</td>\n",
       "      <td>0.238384</td>\n",
       "      <td>0.238384</td>\n",
       "      <td>0.238384</td>\n",
       "    </tr>\n",
       "    <tr>\n",
       "      <th>30</th>\n",
       "      <td>0.236135</td>\n",
       "      <td>0.236135</td>\n",
       "      <td>0.236135</td>\n",
       "      <td>0.236135</td>\n",
       "    </tr>\n",
       "    <tr>\n",
       "      <th>40</th>\n",
       "      <td>0.234671</td>\n",
       "      <td>0.234671</td>\n",
       "      <td>0.234671</td>\n",
       "      <td>0.234671</td>\n",
       "    </tr>\n",
       "    <tr>\n",
       "      <th>50</th>\n",
       "      <td>0.234439</td>\n",
       "      <td>0.234439</td>\n",
       "      <td>0.234439</td>\n",
       "      <td>0.234439</td>\n",
       "    </tr>\n",
       "    <tr>\n",
       "      <th>60</th>\n",
       "      <td>0.234023</td>\n",
       "      <td>0.234023</td>\n",
       "      <td>0.234023</td>\n",
       "      <td>0.234023</td>\n",
       "    </tr>\n",
       "    <tr>\n",
       "      <th>70</th>\n",
       "      <td>0.234013</td>\n",
       "      <td>0.234013</td>\n",
       "      <td>0.234013</td>\n",
       "      <td>0.234013</td>\n",
       "    </tr>\n",
       "    <tr>\n",
       "      <th>80</th>\n",
       "      <td>0.234311</td>\n",
       "      <td>0.234311</td>\n",
       "      <td>0.234311</td>\n",
       "      <td>0.234311</td>\n",
       "    </tr>\n",
       "    <tr>\n",
       "      <th>90</th>\n",
       "      <td>0.234290</td>\n",
       "      <td>0.234290</td>\n",
       "      <td>0.234290</td>\n",
       "      <td>0.234290</td>\n",
       "    </tr>\n",
       "    <tr>\n",
       "      <th>100</th>\n",
       "      <td>0.234178</td>\n",
       "      <td>0.234178</td>\n",
       "      <td>0.234178</td>\n",
       "      <td>0.234178</td>\n",
       "    </tr>\n",
       "    <tr>\n",
       "      <th>110</th>\n",
       "      <td>0.234210</td>\n",
       "      <td>0.234210</td>\n",
       "      <td>0.234210</td>\n",
       "      <td>0.234210</td>\n",
       "    </tr>\n",
       "    <tr>\n",
       "      <th>120</th>\n",
       "      <td>0.233923</td>\n",
       "      <td>0.233923</td>\n",
       "      <td>0.233923</td>\n",
       "      <td>0.233923</td>\n",
       "    </tr>\n",
       "    <tr>\n",
       "      <th>130</th>\n",
       "      <td>0.233786</td>\n",
       "      <td>0.233786</td>\n",
       "      <td>0.233786</td>\n",
       "      <td>0.233786</td>\n",
       "    </tr>\n",
       "    <tr>\n",
       "      <th>140</th>\n",
       "      <td>0.233618</td>\n",
       "      <td>0.233618</td>\n",
       "      <td>0.233618</td>\n",
       "      <td>0.233618</td>\n",
       "    </tr>\n",
       "    <tr>\n",
       "      <th>150</th>\n",
       "      <td>0.233496</td>\n",
       "      <td>0.233496</td>\n",
       "      <td>0.233496</td>\n",
       "      <td>0.233496</td>\n",
       "    </tr>\n",
       "    <tr>\n",
       "      <th>160</th>\n",
       "      <td>0.233334</td>\n",
       "      <td>0.233334</td>\n",
       "      <td>0.233334</td>\n",
       "      <td>0.233334</td>\n",
       "    </tr>\n",
       "    <tr>\n",
       "      <th>170</th>\n",
       "      <td>0.233321</td>\n",
       "      <td>0.233321</td>\n",
       "      <td>0.233321</td>\n",
       "      <td>0.233321</td>\n",
       "    </tr>\n",
       "    <tr>\n",
       "      <th>180</th>\n",
       "      <td>0.233569</td>\n",
       "      <td>0.233569</td>\n",
       "      <td>0.233569</td>\n",
       "      <td>0.233569</td>\n",
       "    </tr>\n",
       "    <tr>\n",
       "      <th>190</th>\n",
       "      <td>0.233847</td>\n",
       "      <td>0.233847</td>\n",
       "      <td>0.233847</td>\n",
       "      <td>0.233847</td>\n",
       "    </tr>\n",
       "    <tr>\n",
       "      <th>200</th>\n",
       "      <td>0.233812</td>\n",
       "      <td>0.233812</td>\n",
       "      <td>0.233812</td>\n",
       "      <td>0.233812</td>\n",
       "    </tr>\n",
       "  </tbody>\n",
       "</table>\n",
       "</div>"
      ],
      "text/plain": [
       "                  rmse                              \n",
       "max_depth           10        15        20        25\n",
       "n_estimators                                        \n",
       "10            0.244911  0.244911  0.244911  0.244911\n",
       "20            0.238384  0.238384  0.238384  0.238384\n",
       "30            0.236135  0.236135  0.236135  0.236135\n",
       "40            0.234671  0.234671  0.234671  0.234671\n",
       "50            0.234439  0.234439  0.234439  0.234439\n",
       "60            0.234023  0.234023  0.234023  0.234023\n",
       "70            0.234013  0.234013  0.234013  0.234013\n",
       "80            0.234311  0.234311  0.234311  0.234311\n",
       "90            0.234290  0.234290  0.234290  0.234290\n",
       "100           0.234178  0.234178  0.234178  0.234178\n",
       "110           0.234210  0.234210  0.234210  0.234210\n",
       "120           0.233923  0.233923  0.233923  0.233923\n",
       "130           0.233786  0.233786  0.233786  0.233786\n",
       "140           0.233618  0.233618  0.233618  0.233618\n",
       "150           0.233496  0.233496  0.233496  0.233496\n",
       "160           0.233334  0.233334  0.233334  0.233334\n",
       "170           0.233321  0.233321  0.233321  0.233321\n",
       "180           0.233569  0.233569  0.233569  0.233569\n",
       "190           0.233847  0.233847  0.233847  0.233847\n",
       "200           0.233812  0.233812  0.233812  0.233812"
      ]
     },
     "execution_count": 26,
     "metadata": {},
     "output_type": "execute_result"
    }
   ],
   "source": [
    "scores = pd.DataFrame(scores, columns=[\"max_depth\", \"n_estimators\", \"rmse\"])\n",
    "scores_pivot = scores.pivot(index=\"n_estimators\", columns=[\"max_depth\"], values=[\"rmse\"])\n",
    "scores_pivot"
   ]
  },
  {
   "cell_type": "code",
   "execution_count": 31,
   "metadata": {},
   "outputs": [
    {
     "data": {
      "text/plain": [
       "<Axes: xlabel='None-max_depth', ylabel='n_estimators'>"
      ]
     },
     "execution_count": 31,
     "metadata": {},
     "output_type": "execute_result"
    },
    {
     "data": {
      "image/png": "[encoded data removed]",
      "text/plain": [
       "<Figure size 640x480 with 2 Axes>"
      ]
     },
     "metadata": {},
     "output_type": "display_data"
    }
   ],
   "source": [
    "sns.heatmap(scores_pivot, annot=True, fmt=\".4f\")"
   ]
  },
  {
   "cell_type": "code",
   "execution_count": 33,
   "metadata": {},
   "outputs": [
    {
     "data": {
      "text/html": [
       "<div>\n",
       "<style scoped>\n",
       "    .dataframe tbody tr th:only-of-type {\n",
       "        vertical-align: middle;\n",
       "    }\n",
       "\n",
       "    .dataframe tbody tr th {\n",
       "        vertical-align: top;\n",
       "    }\n",
       "\n",
       "    .dataframe thead th {\n",
       "        text-align: right;\n",
       "    }\n",
       "</style>\n",
       "<table border=\"1\" class=\"dataframe\">\n",
       "  <thead>\n",
       "    <tr style=\"text-align: right;\">\n",
       "      <th></th>\n",
       "      <th>max_depth</th>\n",
       "      <th>n_estimators</th>\n",
       "      <th>rmse</th>\n",
       "    </tr>\n",
       "  </thead>\n",
       "  <tbody>\n",
       "    <tr>\n",
       "      <th>0</th>\n",
       "      <td>10</td>\n",
       "      <td>10</td>\n",
       "      <td>0.244911</td>\n",
       "    </tr>\n",
       "    <tr>\n",
       "      <th>60</th>\n",
       "      <td>25</td>\n",
       "      <td>10</td>\n",
       "      <td>0.244911</td>\n",
       "    </tr>\n",
       "    <tr>\n",
       "      <th>20</th>\n",
       "      <td>15</td>\n",
       "      <td>10</td>\n",
       "      <td>0.244911</td>\n",
       "    </tr>\n",
       "  </tbody>\n",
       "</table>\n",
       "</div>"
      ],
      "text/plain": [
       "    max_depth  n_estimators      rmse\n",
       "0          10            10  0.244911\n",
       "60         25            10  0.244911\n",
       "20         15            10  0.244911"
      ]
     },
     "execution_count": 33,
     "metadata": {},
     "output_type": "execute_result"
    }
   ],
   "source": [
    "scores.sort_values(\"rmse\", ascending=False)[:3]"
   ]
  },
  {
   "cell_type": "markdown",
   "metadata": {},
   "source": [
    "## Q5"
   ]
  },
  {
   "cell_type": "code",
   "execution_count": 38,
   "metadata": {},
   "outputs": [
    {
     "name": "stdout",
     "output_type": "stream",
     "text": [
      "{'median_income': 0.3366040592263974, 'ocean_proximity=<1H OCEAN': 0.23491497511984563, 'ocean_proximity=INLAND': 0.1293472246669439, 'latitude': 0.10046244942334147, 'longitude': 0.08674328735025284, 'housing_median_age': 0.03206353099823296, 'population': 0.027449384941579072, 'total_rooms': 0.021348736054347325, 'total_bedrooms': 0.016022496178079264, 'households': 0.015043856040980031}\n"
     ]
    }
   ],
   "source": [
    "rf = RandomForestRegressor(\n",
    "    n_estimators=n,\n",
    "    random_state=1,\n",
    "    n_jobs=-1\n",
    ")\n",
    "\n",
    "rf.fit(xtr, ytr)\n",
    "fi_dict = dict(zip(dv.get_feature_names_out(), rf.feature_importances_))\n",
    "fi_dict = {k:v for k,v in sorted(fi_dict.items(), key=lambda item: item[1], reverse=True)}\n",
    "print(fi_dict)"
   ]
  },
  {
   "cell_type": "markdown",
   "metadata": {},
   "source": [
    "## Q6"
   ]
  },
  {
   "cell_type": "code",
   "execution_count": 44,
   "metadata": {},
   "outputs": [],
   "source": [
    "dtr = xgb.DMatrix(xtr, label=ytr)\n",
    "dvl = xgb.DMatrix(xvl, label=yvl)\n",
    "\n",
    "watchlist = [(dtr, 'train'), (dvl, 'valid')]"
   ]
  },
  {
   "cell_type": "code",
   "execution_count": 48,
   "metadata": {},
   "outputs": [],
   "source": [
    "%%capture output\n",
    "\n",
    "xgb_params = {\n",
    "    'eta': 0.3, \n",
    "    'max_depth': 6,\n",
    "    'min_child_weight': 1,\n",
    "    \n",
    "    'objective': 'reg:squarederror',\n",
    "    'nthread': 8,\n",
    "    \n",
    "    'seed': 1,\n",
    "    'verbosity': 1,\n",
    "}\n",
    "\n",
    "model = xgb.train(\n",
    "    xgb_params,\n",
    "    dtr,\n",
    "    num_boost_round=200,\n",
    "    verbose_eval=5,\n",
    "    evals=watchlist,\n",
    ")"
   ]
  },
  {
   "cell_type": "code",
   "execution_count": 53,
   "metadata": {},
   "outputs": [
    {
     "data": {
      "text/html": [
       "<div>\n",
       "<style scoped>\n",
       "    .dataframe tbody tr th:only-of-type {\n",
       "        vertical-align: middle;\n",
       "    }\n",
       "\n",
       "    .dataframe tbody tr th {\n",
       "        vertical-align: top;\n",
       "    }\n",
       "\n",
       "    .dataframe thead th {\n",
       "        text-align: right;\n",
       "    }\n",
       "</style>\n",
       "<table border=\"1\" class=\"dataframe\">\n",
       "  <thead>\n",
       "    <tr style=\"text-align: right;\">\n",
       "      <th></th>\n",
       "      <th>num_iter</th>\n",
       "      <th>train_rmse</th>\n",
       "      <th>val_rmse</th>\n",
       "    </tr>\n",
       "  </thead>\n",
       "  <tbody>\n",
       "    <tr>\n",
       "      <th>0</th>\n",
       "      <td>0</td>\n",
       "      <td>8.07362</td>\n",
       "      <td>8.07348</td>\n",
       "    </tr>\n",
       "    <tr>\n",
       "      <th>1</th>\n",
       "      <td>5</td>\n",
       "      <td>1.38983</td>\n",
       "      <td>1.38852</td>\n",
       "    </tr>\n",
       "    <tr>\n",
       "      <th>2</th>\n",
       "      <td>10</td>\n",
       "      <td>0.33195</td>\n",
       "      <td>0.34802</td>\n",
       "    </tr>\n",
       "  </tbody>\n",
       "</table>\n",
       "</div>"
      ],
      "text/plain": [
       "   num_iter  train_rmse  val_rmse\n",
       "0         0     8.07362   8.07348\n",
       "1         5     1.38983   1.38852\n",
       "2        10     0.33195   0.34802"
      ]
     },
     "execution_count": 53,
     "metadata": {},
     "output_type": "execute_result"
    }
   ],
   "source": [
    "def parse_xgb_output(output):\n",
    "    results = []\n",
    "\n",
    "    for line in output.stdout.strip().split('\\n'):\n",
    "        it_line, train_line, val_line = line.split('\\t')\n",
    "\n",
    "        it = int(it_line.strip('[]'))\n",
    "        train = float(train_line.split(':')[1])\n",
    "        val = float(val_line.split(':')[1])\n",
    "\n",
    "        results.append((it, train, val))\n",
    "    \n",
    "    columns = ['num_iter', 'train_rmse', 'val_rmse']\n",
    "    df_results = pd.DataFrame(results, columns=columns)\n",
    "    return df_results\n",
    "\n",
    "df_score = parse_xgb_output(output)\n",
    "df_score.sort_values(\"val_rmse\", ascending=False)[:3]"
   ]
  },
  {
   "cell_type": "code",
   "execution_count": 61,
   "metadata": {},
   "outputs": [],
   "source": [
    "%%capture output\n",
    "\n",
    "xgb_params = {\n",
    "    'eta': 0.1, \n",
    "    'max_depth': 6,\n",
    "    'min_child_weight': 1,\n",
    "    \n",
    "    'objective': 'reg:squarederror',\n",
    "    'nthread': 8,\n",
    "    \n",
    "    'seed': 1,\n",
    "    'verbosity': 1,\n",
    "}\n",
    "\n",
    "model = xgb.train(\n",
    "    xgb_params,\n",
    "    dtr,\n",
    "    num_boost_round=200,\n",
    "    verbose_eval=5,\n",
    "    evals=watchlist,\n",
    ")"
   ]
  },
  {
   "cell_type": "code",
   "execution_count": 63,
   "metadata": {},
   "outputs": [
    {
     "data": {
      "text/html": [
       "<div>\n",
       "<style scoped>\n",
       "    .dataframe tbody tr th:only-of-type {\n",
       "        vertical-align: middle;\n",
       "    }\n",
       "\n",
       "    .dataframe tbody tr th {\n",
       "        vertical-align: top;\n",
       "    }\n",
       "\n",
       "    .dataframe thead th {\n",
       "        text-align: right;\n",
       "    }\n",
       "</style>\n",
       "<table border=\"1\" class=\"dataframe\">\n",
       "  <thead>\n",
       "    <tr style=\"text-align: right;\">\n",
       "      <th></th>\n",
       "      <th>num_iter</th>\n",
       "      <th>train_rmse</th>\n",
       "      <th>val_rmse</th>\n",
       "    </tr>\n",
       "  </thead>\n",
       "  <tbody>\n",
       "    <tr>\n",
       "      <th>0</th>\n",
       "      <td>0</td>\n",
       "      <td>10.37456</td>\n",
       "      <td>10.37545</td>\n",
       "    </tr>\n",
       "    <tr>\n",
       "      <th>1</th>\n",
       "      <td>5</td>\n",
       "      <td>6.13433</td>\n",
       "      <td>6.13236</td>\n",
       "    </tr>\n",
       "    <tr>\n",
       "      <th>2</th>\n",
       "      <td>10</td>\n",
       "      <td>3.63299</td>\n",
       "      <td>3.62939</td>\n",
       "    </tr>\n",
       "  </tbody>\n",
       "</table>\n",
       "</div>"
      ],
      "text/plain": [
       "   num_iter  train_rmse  val_rmse\n",
       "0         0    10.37456  10.37545\n",
       "1         5     6.13433   6.13236\n",
       "2        10     3.63299   3.62939"
      ]
     },
     "execution_count": 63,
     "metadata": {},
     "output_type": "execute_result"
    }
   ],
   "source": [
    "df_score = parse_xgb_output(output)\n",
    "df_score.sort_values(\"val_rmse\", ascending=False)[:3]"
   ]
  }
 ],
 "metadata": {
  "kernelspec": {
   "display_name": "base",
   "language": "python",
   "name": "python3"
  },
  "language_info": {
   "codemirror_mode": {
    "name": "ipython",
    "version": 3
   },
   "file_extension": ".py",
   "mimetype": "text/x-python",
   "name": "python",
   "nbconvert_exporter": "python",
   "pygments_lexer": "ipython3",
   "version": "3.10.9"
  }
 },
 "nbformat": 4,
 "nbformat_minor": 2
}
