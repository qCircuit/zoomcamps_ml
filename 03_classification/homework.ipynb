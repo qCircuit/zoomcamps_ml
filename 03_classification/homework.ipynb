{
 "cells": [
  {
   "cell_type": "code",
   "execution_count": 105,
   "metadata": {},
   "outputs": [],
   "source": [
    "import numpy as np\n",
    "import pandas as pd\n",
    "import matplotlib.pyplot as plt\n",
    "from sklearn.feature_extraction import DictVectorizer\n",
    "from sklearn.linear_model import LogisticRegression, Ridge \n",
    "from sklearn.metrics import accuracy_score, mean_squared_error, mutual_info_score\n",
    "from sklearn.model_selection import train_test_split"
   ]
  },
  {
   "cell_type": "code",
   "execution_count": 101,
   "metadata": {},
   "outputs": [
    {
     "name": "stdout",
     "output_type": "stream",
     "text": [
      "(11914, 16)\n",
      "<class 'pandas.core.frame.DataFrame'>\n",
      "RangeIndex: 11914 entries, 0 to 11913\n",
      "Data columns (total 16 columns):\n",
      " #   Column             Non-Null Count  Dtype  \n",
      "---  ------             --------------  -----  \n",
      " 0   Make               11914 non-null  object \n",
      " 1   Model              11914 non-null  object \n",
      " 2   Year               11914 non-null  int64  \n",
      " 3   Engine Fuel Type   11911 non-null  object \n",
      " 4   Engine HP          11845 non-null  float64\n",
      " 5   Engine Cylinders   11884 non-null  float64\n",
      " 6   Transmission Type  11914 non-null  object \n",
      " 7   Driven_Wheels      11914 non-null  object \n",
      " 8   Number of Doors    11908 non-null  float64\n",
      " 9   Market Category    8172 non-null   object \n",
      " 10  Vehicle Size       11914 non-null  object \n",
      " 11  Vehicle Style      11914 non-null  object \n",
      " 12  highway MPG        11914 non-null  int64  \n",
      " 13  city mpg           11914 non-null  int64  \n",
      " 14  Popularity         11914 non-null  int64  \n",
      " 15  MSRP               11914 non-null  int64  \n",
      "dtypes: float64(3), int64(5), object(8)\n",
      "memory usage: 1.5+ MB\n"
     ]
    }
   ],
   "source": [
    "df = pd.read_csv(\"../02_regression/data/data.csv\")\n",
    "print(df.shape)\n",
    "df.info()  "
   ]
  },
  {
   "cell_type": "code",
   "execution_count": 102,
   "metadata": {},
   "outputs": [],
   "source": [
    "cols_to_leave = [\"Make\",\"Model\",\"Year\",\"Engine HP\",\"Engine Cylinders\",\"Transmission Type\",\"Vehicle Style\",\"highway MPG\",\"city mpg\",\"MSRP\"]\n",
    "df = df[cols_to_leave]\n",
    "df.columns = df.columns.str.replace(' ', '_').str.lower()\n",
    "df = df.fillna(0)\n",
    "df = df.rename(columns={\"MSRP\".lower(): \"price\"})"
   ]
  },
  {
   "cell_type": "markdown",
   "metadata": {},
   "source": [
    "## Q1"
   ]
  },
  {
   "cell_type": "code",
   "execution_count": 79,
   "metadata": {},
   "outputs": [
    {
     "data": {
      "text/plain": [
       "0    AUTOMATIC\n",
       "Name: transmission_type, dtype: object"
      ]
     },
     "execution_count": 79,
     "metadata": {},
     "output_type": "execute_result"
    }
   ],
   "source": [
    "df.transmission_type.mode()"
   ]
  },
  {
   "cell_type": "markdown",
   "metadata": {},
   "source": [
    "## Q2"
   ]
  },
  {
   "cell_type": "code",
   "execution_count": 80,
   "metadata": {},
   "outputs": [
    {
     "data": {
      "text/html": [
       "<div>\n",
       "<style scoped>\n",
       "    .dataframe tbody tr th:only-of-type {\n",
       "        vertical-align: middle;\n",
       "    }\n",
       "\n",
       "    .dataframe tbody tr th {\n",
       "        vertical-align: top;\n",
       "    }\n",
       "\n",
       "    .dataframe thead th {\n",
       "        text-align: right;\n",
       "    }\n",
       "</style>\n",
       "<table border=\"1\" class=\"dataframe\">\n",
       "  <thead>\n",
       "    <tr style=\"text-align: right;\">\n",
       "      <th></th>\n",
       "      <th>engine_hp</th>\n",
       "      <th>year</th>\n",
       "      <th>engine_cylinders</th>\n",
       "      <th>highway_mpg</th>\n",
       "      <th>city_mpg</th>\n",
       "    </tr>\n",
       "  </thead>\n",
       "  <tbody>\n",
       "    <tr>\n",
       "      <th>engine_hp</th>\n",
       "      <td>1.000000</td>\n",
       "      <td>0.338714</td>\n",
       "      <td>0.774851</td>\n",
       "      <td>-0.415707</td>\n",
       "      <td>-0.424918</td>\n",
       "    </tr>\n",
       "    <tr>\n",
       "      <th>year</th>\n",
       "      <td>0.338714</td>\n",
       "      <td>1.000000</td>\n",
       "      <td>-0.040708</td>\n",
       "      <td>0.258240</td>\n",
       "      <td>0.198171</td>\n",
       "    </tr>\n",
       "    <tr>\n",
       "      <th>engine_cylinders</th>\n",
       "      <td>0.774851</td>\n",
       "      <td>-0.040708</td>\n",
       "      <td>1.000000</td>\n",
       "      <td>-0.614541</td>\n",
       "      <td>-0.587306</td>\n",
       "    </tr>\n",
       "    <tr>\n",
       "      <th>highway_mpg</th>\n",
       "      <td>-0.415707</td>\n",
       "      <td>0.258240</td>\n",
       "      <td>-0.614541</td>\n",
       "      <td>1.000000</td>\n",
       "      <td>0.886829</td>\n",
       "    </tr>\n",
       "    <tr>\n",
       "      <th>city_mpg</th>\n",
       "      <td>-0.424918</td>\n",
       "      <td>0.198171</td>\n",
       "      <td>-0.587306</td>\n",
       "      <td>0.886829</td>\n",
       "      <td>1.000000</td>\n",
       "    </tr>\n",
       "  </tbody>\n",
       "</table>\n",
       "</div>"
      ],
      "text/plain": [
       "                  engine_hp      year  engine_cylinders  highway_mpg  city_mpg\n",
       "engine_hp          1.000000  0.338714          0.774851    -0.415707 -0.424918\n",
       "year               0.338714  1.000000         -0.040708     0.258240  0.198171\n",
       "engine_cylinders   0.774851 -0.040708          1.000000    -0.614541 -0.587306\n",
       "highway_mpg       -0.415707  0.258240         -0.614541     1.000000  0.886829\n",
       "city_mpg          -0.424918  0.198171         -0.587306     0.886829  1.000000"
      ]
     },
     "execution_count": 80,
     "metadata": {},
     "output_type": "execute_result"
    }
   ],
   "source": [
    "df[['engine_hp', 'year', 'engine_cylinders', 'highway_mpg', 'city_mpg']].corr()"
   ]
  },
  {
   "cell_type": "markdown",
   "metadata": {},
   "source": [
    "## Q3"
   ]
  },
  {
   "cell_type": "code",
   "execution_count": 81,
   "metadata": {},
   "outputs": [
    {
     "name": "stdout",
     "output_type": "stream",
     "text": [
      "0    8645\n",
      "1    3269\n",
      "Name: above_average, dtype: int64\n"
     ]
    }
   ],
   "source": [
    "df[\"above_average\"] = (df.price > df.price.mean()).astype(int)\n",
    "df = df.drop(\"price\", axis=1)\n",
    "print(df.above_average.value_counts())"
   ]
  },
  {
   "cell_type": "code",
   "execution_count": 82,
   "metadata": {},
   "outputs": [
    {
     "name": "stdout",
     "output_type": "stream",
     "text": [
      "(7148, 10) (2383, 10) (2383, 10)\n"
     ]
    }
   ],
   "source": [
    "df_full_train, dfts = train_test_split(df, test_size=0.2, random_state=42)\n",
    "dftr, dfvl = train_test_split(df_full_train, test_size=0.25, random_state=42)\n",
    "print(dftr.shape, dfvl.shape, dfts.shape)"
   ]
  },
  {
   "cell_type": "code",
   "execution_count": 83,
   "metadata": {},
   "outputs": [
    {
     "data": {
      "text/plain": [
       "model                0.46\n",
       "make                 0.24\n",
       "vehicle_style        0.08\n",
       "transmission_type    0.02\n",
       "dtype: object"
      ]
     },
     "execution_count": 83,
     "metadata": {},
     "output_type": "execute_result"
    }
   ],
   "source": [
    "def my_mutual_info_score(series):\n",
    "    return f\"{mutual_info_score(series, dftr.above_average):.2f}\"\n",
    "\n",
    "dftr[['make', 'model', 'transmission_type', 'vehicle_style']].apply(\n",
    "    my_mutual_info_score\n",
    ").sort_values(ascending=False)"
   ]
  },
  {
   "cell_type": "markdown",
   "metadata": {},
   "source": [
    "## Q4"
   ]
  },
  {
   "cell_type": "code",
   "execution_count": 84,
   "metadata": {},
   "outputs": [
    {
     "name": "stdout",
     "output_type": "stream",
     "text": [
      "(7148, 943) (7148,) (2383, 943) (2383,) (2383, 943) (2383,)\n"
     ]
    }
   ],
   "source": [
    "dv = DictVectorizer(sparse=False)\n",
    "\n",
    "train_dicts = dftr.drop(\"above_average\", axis=1).to_dict(orient=\"records\")\n",
    "xtr = dv.fit_transform(train_dicts)\n",
    "\n",
    "val_dicts = dfvl.drop(\"above_average\", axis=1).to_dict(orient=\"records\")\n",
    "xvl = dv.transform(val_dicts)\n",
    "\n",
    "ytr = dftr.above_average.values\n",
    "yvl = dfvl.above_average.values\n",
    "\n",
    "print(xtr.shape, ytr.shape, xvl.shape, yvl.shape)"
   ]
  },
  {
   "cell_type": "code",
   "execution_count": 93,
   "metadata": {},
   "outputs": [
    {
     "name": "stdout",
     "output_type": "stream",
     "text": [
      "0.93\n"
     ]
    }
   ],
   "source": [
    "model = LogisticRegression(solver='liblinear', C=10, max_iter=1000, random_state=42)\n",
    "model.fit(xtr, ytr)\n",
    "print(f\"{accuracy_score(yvl, model.predict(xvl)):.2f}\")"
   ]
  },
  {
   "cell_type": "markdown",
   "metadata": {},
   "source": [
    "## Q5"
   ]
  },
  {
   "cell_type": "code",
   "execution_count": 98,
   "metadata": {},
   "outputs": [
    {
     "name": "stdout",
     "output_type": "stream",
     "text": [
      "{'year': '0.95', 'engine_hp': '0.93', 'transmission_type': '0.95', 'city_mpg': '0.95'}\n"
     ]
    }
   ],
   "source": [
    "feats = ['year', 'engine_hp', 'transmission_type', 'city_mpg']\n",
    "stats = {}\n",
    "\n",
    "for f in feats:\n",
    "    dv = DictVectorizer(sparse=False)\n",
    "\n",
    "    train_dicts = dftr.drop([\"above_average\", f], axis=1).to_dict(orient=\"records\")\n",
    "    xtr = dv.fit_transform(train_dicts)\n",
    "\n",
    "    val_dicts = dfvl.drop([\"above_average\", f], axis=1).to_dict(orient=\"records\")\n",
    "    xvl = dv.transform(val_dicts)\n",
    "    model = LogisticRegression(solver='liblinear', C=10, max_iter=1000, random_state=42)\n",
    "    model.fit(xtr, ytr)\n",
    "    stats[f] = f\"{model.score(xvl, yvl):.2f}\"\n",
    "\n",
    "\n",
    "print(stats)"
   ]
  },
  {
   "cell_type": "markdown",
   "metadata": {},
   "source": [
    "## Q6"
   ]
  },
  {
   "cell_type": "code",
   "execution_count": 107,
   "metadata": {},
   "outputs": [
    {
     "name": "stdout",
     "output_type": "stream",
     "text": [
      "(7148, 10) (2383, 10) (2383, 10)\n",
      "(7148, 943) (7148,) (2383, 943) (2383,)\n"
     ]
    },
    {
     "name": "stderr",
     "output_type": "stream",
     "text": [
      "/home/hilbert/.local/lib/python3.10/site-packages/sklearn/linear_model/_sag.py:350: ConvergenceWarning: The max_iter was reached which means the coef_ did not converge\n",
      "  warnings.warn(\n"
     ]
    },
    {
     "name": "stdout",
     "output_type": "stream",
     "text": [
      "0 0.002751007907400734\n"
     ]
    },
    {
     "name": "stderr",
     "output_type": "stream",
     "text": [
      "/home/hilbert/.local/lib/python3.10/site-packages/sklearn/linear_model/_sag.py:350: ConvergenceWarning: The max_iter was reached which means the coef_ did not converge\n",
      "  warnings.warn(\n"
     ]
    },
    {
     "name": "stdout",
     "output_type": "stream",
     "text": [
      "0.01 0.002750970692017939\n"
     ]
    },
    {
     "name": "stderr",
     "output_type": "stream",
     "text": [
      "/home/hilbert/.local/lib/python3.10/site-packages/sklearn/linear_model/_sag.py:350: ConvergenceWarning: The max_iter was reached which means the coef_ did not converge\n",
      "  warnings.warn(\n"
     ]
    },
    {
     "name": "stdout",
     "output_type": "stream",
     "text": [
      "0.1 0.002751015207291067\n"
     ]
    },
    {
     "name": "stderr",
     "output_type": "stream",
     "text": [
      "/home/hilbert/.local/lib/python3.10/site-packages/sklearn/linear_model/_sag.py:350: ConvergenceWarning: The max_iter was reached which means the coef_ did not converge\n",
      "  warnings.warn(\n"
     ]
    },
    {
     "name": "stdout",
     "output_type": "stream",
     "text": [
      "1 0.002751240195538074\n",
      "10 0.0027534049228147856\n",
      "{0: '0.003', 0.01: '0.003', 0.1: '0.003', 1: '0.003', 10: '0.003'}\n"
     ]
    },
    {
     "name": "stderr",
     "output_type": "stream",
     "text": [
      "/home/hilbert/.local/lib/python3.10/site-packages/sklearn/linear_model/_sag.py:350: ConvergenceWarning: The max_iter was reached which means the coef_ did not converge\n",
      "  warnings.warn(\n"
     ]
    }
   ],
   "source": [
    "df.price = df.price.apply(lambda x: np.log(x))\n",
    "\n",
    "df_full_train, dfts = train_test_split(df, test_size=0.2, random_state=42)\n",
    "dftr, dfvl = train_test_split(df_full_train, test_size=0.25, random_state=42)\n",
    "print(dftr.shape, dfvl.shape, dfts.shape)\n",
    "\n",
    "dv = DictVectorizer(sparse=False)\n",
    "\n",
    "train_dicts = dftr.drop(\"price\", axis=1).to_dict(orient=\"records\")\n",
    "xtr = dv.fit_transform(train_dicts)\n",
    "\n",
    "val_dicts = dfvl.drop(\"price\", axis=1).to_dict(orient=\"records\")\n",
    "xvl = dv.transform(val_dicts)\n",
    "\n",
    "ytr = dftr.price.values\n",
    "yvl = dfvl.price.values\n",
    "\n",
    "print(xtr.shape, ytr.shape, xvl.shape, yvl.shape)\n",
    "\n",
    "stats = {}\n",
    "alphas = [0, 0.01, 0.1, 1, 10]\n",
    "for alph in alphas:\n",
    "    ridge = Ridge(solver=\"sag\", alpha=alph)\n",
    "    ridge.fit(xtr, ytr)\n",
    "    rmse = mean_squared_error(yvl, ridge.predict(xvl))\n",
    "    print(alph, rmse)\n",
    "    stats[alph] = f\"{rmse:.3f}\"\n",
    "\n",
    "print(stats)\n",
    "    "
   ]
  }
 ],
 "metadata": {
  "kernelspec": {
   "display_name": "base",
   "language": "python",
   "name": "python3"
  },
  "language_info": {
   "codemirror_mode": {
    "name": "ipython",
    "version": 3
   },
   "file_extension": ".py",
   "mimetype": "text/x-python",
   "name": "python",
   "nbconvert_exporter": "python",
   "pygments_lexer": "ipython3",
   "version": "3.10.9"
  },
  "orig_nbformat": 4
 },
 "nbformat": 4,
 "nbformat_minor": 2
}
