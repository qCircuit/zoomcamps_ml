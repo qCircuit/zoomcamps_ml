{
 "cells": [
  {
   "cell_type": "code",
   "execution_count": 1,
   "metadata": {},
   "outputs": [],
   "source": [
    "import numpy as np"
   ]
  },
  {
   "cell_type": "markdown",
   "metadata": {},
   "source": [
    "## numpy basics "
   ]
  },
  {
   "cell_type": "code",
   "execution_count": 9,
   "metadata": {},
   "outputs": [
    {
     "name": "stdout",
     "output_type": "stream",
     "text": [
      "50\n"
     ]
    }
   ],
   "source": [
    "def vector_vector_multiplication(u,v):\n",
    "    assert u.shape[0] == v.shape[0]\n",
    "\n",
    "    result = 0\n",
    "    for i in range(u.shape[0]):\n",
    "        result += u[i]*v[i]\n",
    "\n",
    "    return result \n",
    "\n",
    "u = np.array([1,2,3])\n",
    "v = np.array([7,8,9])\n",
    "print(vector_vector_multiplication(u,v))\n",
    "print(u.dot(v))"
   ]
  },
  {
   "cell_type": "code",
   "execution_count": 12,
   "metadata": {},
   "outputs": [
    {
     "name": "stdout",
     "output_type": "stream",
     "text": [
      "[ 50. 266. 506.]\n",
      "[ 50 266 506]\n"
     ]
    }
   ],
   "source": [
    "def matrix_vector_multiplication(u,v):\n",
    "    assert u.shape[1] == v.shape[0]\n",
    "\n",
    "    result = np.zeros(u.shape[0])\n",
    "\n",
    "    for i in range(u.shape[0]):\n",
    "        result[i] += vector_vector_multiplication(u[i], v)\n",
    "\n",
    "    return result\n",
    "\n",
    "u = np.array([\n",
    "    [1,2,3],\n",
    "    [10,11,12],\n",
    "    [20,21,22]\n",
    "    ])\n",
    "v = np.array([7,8,9])\n",
    "print( matrix_vector_multiplication(u,v))\n",
    "print(u.dot(v))"
   ]
  },
  {
   "cell_type": "code",
   "execution_count": 14,
   "metadata": {},
   "outputs": [
    {
     "name": "stdout",
     "output_type": "stream",
     "text": [
      "[[ 22.  24.]\n",
      " [139. 150.]\n",
      " [269. 290.]]\n",
      "[[ 22  24]\n",
      " [139 150]\n",
      " [269 290]]\n"
     ]
    }
   ],
   "source": [
    "def matrix_matrix_multiplication(u,v):\n",
    "    assert u.shape[1] == v.shape[0]\n",
    "\n",
    "    result = np.zeros((u.shape[0], v.shape[1]))\n",
    "\n",
    "    for i in range(v.shape[1]):\n",
    "        vi = v[:,i]\n",
    "        uvi = matrix_vector_multiplication(u, vi)\n",
    "        result[:, i] = uvi\n",
    "\n",
    "    return result\n",
    "\n",
    "\n",
    "u = np.array([\n",
    "    [1,2,3],\n",
    "    [10,11,12],\n",
    "    [20,21,22]\n",
    "    ])\n",
    "v = np.array([\n",
    "    [7,8],\n",
    "    [3,2],\n",
    "    [3,4]\n",
    "])\n",
    "\n",
    "print(matrix_matrix_multiplication(u,v))\n",
    "print(u.dot(v))"
   ]
  },
  {
   "cell_type": "code",
   "execution_count": 15,
   "metadata": {},
   "outputs": [
    {
     "name": "stdout",
     "output_type": "stream",
     "text": [
      "1.5.3\n"
     ]
    }
   ],
   "source": []
  }
 ],
 "metadata": {
  "kernelspec": {
   "display_name": "base",
   "language": "python",
   "name": "python3"
  },
  "language_info": {
   "codemirror_mode": {
    "name": "ipython",
    "version": 3
   },
   "file_extension": ".py",
   "mimetype": "text/x-python",
   "name": "python",
   "nbconvert_exporter": "python",
   "pygments_lexer": "ipython3",
   "version": "3.10.9"
  },
  "orig_nbformat": 4
 },
 "nbformat": 4,
 "nbformat_minor": 2
}
