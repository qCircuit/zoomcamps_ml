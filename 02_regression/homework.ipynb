{
 "cells": [
  {
   "cell_type": "code",
   "execution_count": 47,
   "metadata": {},
   "outputs": [],
   "source": [
    "if False:\n",
    "    data_link = \"https://raw.githubusercontent.com/alexeygrigorev/datasets/master/housing.csv\"\n",
    "    !wget -P data $data_link "
   ]
  },
  {
   "cell_type": "code",
   "execution_count": 48,
   "metadata": {},
   "outputs": [],
   "source": [
    "import numpy as np\n",
    "import pandas as pd\n",
    "import matplotlib.pyplot as plt\n",
    "import seaborn as sns   "
   ]
  },
  {
   "cell_type": "code",
   "execution_count": 49,
   "metadata": {},
   "outputs": [
    {
     "name": "stdout",
     "output_type": "stream",
     "text": [
      "(20640, 10)\n",
      "<class 'pandas.core.frame.DataFrame'>\n",
      "RangeIndex: 20640 entries, 0 to 20639\n",
      "Data columns (total 10 columns):\n",
      " #   Column              Non-Null Count  Dtype  \n",
      "---  ------              --------------  -----  \n",
      " 0   longitude           20640 non-null  float64\n",
      " 1   latitude            20640 non-null  float64\n",
      " 2   housing_median_age  20640 non-null  float64\n",
      " 3   total_rooms         20640 non-null  float64\n",
      " 4   total_bedrooms      20433 non-null  float64\n",
      " 5   population          20640 non-null  float64\n",
      " 6   households          20640 non-null  float64\n",
      " 7   median_income       20640 non-null  float64\n",
      " 8   median_house_value  20640 non-null  float64\n",
      " 9   ocean_proximity     20640 non-null  object \n",
      "dtypes: float64(9), object(1)\n",
      "memory usage: 1.6+ MB\n"
     ]
    }
   ],
   "source": [
    "df = pd.read_csv(\"data/housing.csv\")\n",
    "print(df.shape)\n",
    "df.info()  "
   ]
  },
  {
   "cell_type": "code",
   "execution_count": 50,
   "metadata": {},
   "outputs": [
    {
     "data": {
      "text/plain": [
       "<Axes: xlabel='median_house_value', ylabel='Count'>"
      ]
     },
     "execution_count": 50,
     "metadata": {},
     "output_type": "execute_result"
    },
    {
     "data": {
      "image/png": "[encoded data removed]",
      "text/plain": [
       "<Figure size 640x480 with 1 Axes>"
      ]
     },
     "metadata": {},
     "output_type": "display_data"
    }
   ],
   "source": [
    "sns.histplot(df.median_house_value, bins=50)"
   ]
  },
  {
   "cell_type": "code",
   "execution_count": 51,
   "metadata": {},
   "outputs": [
    {
     "name": "stdout",
     "output_type": "stream",
     "text": [
      "(15687, 10)\n"
     ]
    }
   ],
   "source": [
    "df = df[df.ocean_proximity.isin([\"<1H OCEAN\", \"INLAND\"])].reset_index(drop=True)\n",
    "print(df.shape)"
   ]
  },
  {
   "cell_type": "code",
   "execution_count": 52,
   "metadata": {},
   "outputs": [
    {
     "name": "stdout",
     "output_type": "stream",
     "text": [
      "(15687, 9)\n"
     ]
    }
   ],
   "source": [
    "columns_to_keep = [\n",
    "    'latitude', 'longitude', 'housing_median_age', 'total_rooms', 'total_bedrooms',\n",
    "    'population', 'households', 'median_income', 'median_house_value'\n",
    "]\n",
    "\n",
    "df = df[columns_to_keep]\n",
    "print(df.shape)"
   ]
  },
  {
   "cell_type": "markdown",
   "metadata": {},
   "source": [
    "## Q1"
   ]
  },
  {
   "cell_type": "code",
   "execution_count": 53,
   "metadata": {},
   "outputs": [
    {
     "name": "stdout",
     "output_type": "stream",
     "text": [
      "<class 'pandas.core.frame.DataFrame'>\n",
      "RangeIndex: 15687 entries, 0 to 15686\n",
      "Data columns (total 9 columns):\n",
      " #   Column              Non-Null Count  Dtype  \n",
      "---  ------              --------------  -----  \n",
      " 0   latitude            15687 non-null  float64\n",
      " 1   longitude           15687 non-null  float64\n",
      " 2   housing_median_age  15687 non-null  float64\n",
      " 3   total_rooms         15687 non-null  float64\n",
      " 4   total_bedrooms      15530 non-null  float64\n",
      " 5   population          15687 non-null  float64\n",
      " 6   households          15687 non-null  float64\n",
      " 7   median_income       15687 non-null  float64\n",
      " 8   median_house_value  15687 non-null  float64\n",
      "dtypes: float64(9)\n",
      "memory usage: 1.1 MB\n"
     ]
    }
   ],
   "source": [
    "df.info()"
   ]
  },
  {
   "cell_type": "markdown",
   "metadata": {},
   "source": [
    "## Q2"
   ]
  },
  {
   "cell_type": "code",
   "execution_count": 54,
   "metadata": {},
   "outputs": [
    {
     "data": {
      "text/plain": [
       "count    15687.000000\n",
       "mean      1466.317205\n",
       "std       1180.389908\n",
       "min          3.000000\n",
       "25%        802.000000\n",
       "50%       1195.000000\n",
       "75%       1777.000000\n",
       "max      35682.000000\n",
       "Name: population, dtype: float64"
      ]
     },
     "execution_count": 54,
     "metadata": {},
     "output_type": "execute_result"
    }
   ],
   "source": [
    "df.population.describe()"
   ]
  },
  {
   "cell_type": "code",
   "execution_count": 55,
   "metadata": {},
   "outputs": [
    {
     "name": "stdout",
     "output_type": "stream",
     "text": [
      "(9413, 9) (3137, 9) (3137, 9)\n",
      "(9413,) (3137,) (3137,)\n"
     ]
    }
   ],
   "source": [
    "# train test split\n",
    "n = len(df)\n",
    "\n",
    "idx = np.arange(n)\n",
    "np.random.seed(42)\n",
    "np.random.shuffle(idx)\n",
    "\n",
    "n_vl = int(n*0.2)\n",
    "n_ts = int(n*0.2)\n",
    "n_tr = n - n_vl - n_ts\n",
    "\n",
    "df_tr = df.iloc[idx[:n_tr]].reset_index(drop=True)\n",
    "df_vl = df.iloc[idx[n_tr:n_tr+n_vl]].reset_index(drop=True)\n",
    "df_ts = df.iloc[idx[n_tr+n_vl:]].reset_index(drop=True)\n",
    "\n",
    "print(df_tr.shape,  df_vl.shape, df_ts.shape)\n",
    "\n",
    "# normalizing target\n",
    "ytr = np.log1p(df_tr.median_house_value.values)\n",
    "yvl = np.log1p(df_vl.median_house_value.values)\n",
    "yts = np.log1p(df_ts.median_house_value.values)\n",
    "print(ytr.shape, yvl.shape, yts.shape)\n",
    "\n",
    "# drop target from features set\n",
    "del df_tr[\"median_house_value\"]\n",
    "del df_vl[\"median_house_value\"]\n",
    "del df_ts[\"median_house_value\"]"
   ]
  },
  {
   "cell_type": "markdown",
   "metadata": {},
   "source": [
    "## Q3"
   ]
  },
  {
   "cell_type": "code",
   "execution_count": 56,
   "metadata": {},
   "outputs": [],
   "source": [
    "def train_linear_regresion(X, y):\n",
    "    ones = np.ones(X.shape[0])\n",
    "    X = np.column_stack((ones, X))\n",
    "    \n",
    "    XTX = X.T.dot(X)\n",
    "    XTX_inv = np.linalg.inv(XTX)\n",
    "    w_full = XTX_inv.dot(X.T).dot(y)\n",
    "\n",
    "    return w_full[0], w_full[1:]\n",
    "\n",
    "def rmse(y, ypr):\n",
    "    error = y - ypr\n",
    "    se = error ** 2\n",
    "    mse = se.mean()\n",
    "    \n",
    "    return mse**0.5"
   ]
  },
  {
   "cell_type": "code",
   "execution_count": 57,
   "metadata": {},
   "outputs": [
    {
     "name": "stdout",
     "output_type": "stream",
     "text": [
      "0.34027197158295336\n",
      "0 2\n"
     ]
    }
   ],
   "source": [
    "# fill with zeros\n",
    "\n",
    "Xtr = df_tr.fillna(0).values\n",
    "w0, w = train_linear_regresion(Xtr, ytr)\n",
    "ypr = w0+ Xtr.dot(w)\n",
    "print(rmse(ytr, ypr))\n",
    "print(round(rmse(ytr, ypr)), 2)"
   ]
  },
  {
   "cell_type": "code",
   "execution_count": 58,
   "metadata": {},
   "outputs": [
    {
     "name": "stdout",
     "output_type": "stream",
     "text": [
      "0.34003008222642594\n",
      "0 2\n"
     ]
    }
   ],
   "source": [
    "# fill with the mean of the train dataset\n",
    "\n",
    "Xtr = df_tr.fillna(df_tr.total_bedrooms.mean()).values\n",
    "w0, w = train_linear_regresion(Xtr, ytr)\n",
    "ypr = w0+ Xtr.dot(w)\n",
    "print(rmse(ytr, ypr))\n",
    "print(round(rmse(ytr, ypr)), 2)"
   ]
  },
  {
   "cell_type": "code",
   "execution_count": 59,
   "metadata": {},
   "outputs": [
    {
     "name": "stdout",
     "output_type": "stream",
     "text": [
      "0.34003008222642594\n",
      "0 2\n"
     ]
    }
   ],
   "source": [
    "# fill with the mean of the whole dataset\n",
    "\n",
    "Xtr = df_tr.fillna(df_tr.total_bedrooms.mean()).values\n",
    "w0, w = train_linear_regresion(Xtr, ytr)\n",
    "ypr = w0+ Xtr.dot(w)\n",
    "print(rmse(ytr, ypr))\n",
    "print(round(rmse(ytr, ypr)), 2)"
   ]
  },
  {
   "cell_type": "code",
   "execution_count": 63,
   "metadata": {},
   "outputs": [],
   "source": [
    "Xtr = df_tr.fillna(0).values\n",
    "Xvl = df_vl.fillna(0).values\n",
    "Xts = df_ts.fillna(0).values"
   ]
  },
  {
   "cell_type": "markdown",
   "metadata": {},
   "source": [
    "## Q4"
   ]
  },
  {
   "cell_type": "code",
   "execution_count": 62,
   "metadata": {},
   "outputs": [],
   "source": [
    "def train_linear_regresion_reg(X, y, r=0.001):\n",
    "    ones = np.ones(X.shape[0])\n",
    "    X = np.column_stack((ones, X))\n",
    "    \n",
    "    XTX = X.T.dot(X)\n",
    "    XTX = XTX + r + np.eye(XTX.shape[0])\n",
    "\n",
    "    XTX_inv = np.linalg.inv(XTX)\n",
    "    w_full = XTX_inv.dot(X.T).dot(y)\n",
    "\n",
    "    return w_full[0], w_full[1:]"
   ]
  },
  {
   "cell_type": "code",
   "execution_count": 65,
   "metadata": {},
   "outputs": [
    {
     "name": "stdout",
     "output_type": "stream",
     "text": [
      "0 0 2\n",
      "1e-06 0 2\n",
      "0.0001 0 2\n",
      "0.001 0 2\n",
      "0.01 0 2\n",
      "0.1 0 2\n",
      "1 0 2\n",
      "5 0 2\n",
      "10 0 2\n"
     ]
    },
    {
     "data": {
      "text/plain": [
       "{0: 0.3448958327642532,\n",
       " 1e-06: 0.3448958352844618,\n",
       " 0.0001: 0.34489608466566146,\n",
       " 0.001: 0.3448983505042513,\n",
       " 0.01: 0.34492088395984594,\n",
       " 0.1: 0.34513434523872666,\n",
       " 1: 0.3464981613243229,\n",
       " 5: 0.3481192007285889,\n",
       " 10: 0.3485799270680696}"
      ]
     },
     "execution_count": 65,
     "metadata": {},
     "output_type": "execute_result"
    }
   ],
   "source": [
    "logs = {}\n",
    "\n",
    "for r in [0, 0.000001, 0.0001, 0.001, 0.01, 0.1, 1, 5, 10]:\n",
    "    w0, w = train_linear_regresion_reg(Xtr, ytr, r)\n",
    "    ypr = w0+ Xvl.dot(w)\n",
    "    print(r, round(rmse(yvl, ypr)),2)\n",
    "    logs[r] = rmse(yvl, ypr)\n",
    "\n",
    "dict(sorted(logs.items(), key=lambda item: item[1]))"
   ]
  },
  {
   "cell_type": "markdown",
   "metadata": {},
   "source": [
    "## Q5"
   ]
  },
  {
   "cell_type": "code",
   "execution_count": 68,
   "metadata": {},
   "outputs": [
    {
     "data": {
      "text/plain": [
       "{3: 0.3320049468303913,\n",
       " 9: 0.3341558266520944,\n",
       " 0: 0.337738716004276,\n",
       " 1: 0.3377999353665366,\n",
       " 2: 0.3384287006753526,\n",
       " 6: 0.33853302117701234,\n",
       " 4: 0.33944518625559,\n",
       " 5: 0.3433819705264787,\n",
       " 7: 0.3468747697300745,\n",
       " 8: 0.35127368659626035}"
      ]
     },
     "execution_count": 68,
     "metadata": {},
     "output_type": "execute_result"
    }
   ],
   "source": [
    "logs = {} \n",
    "\n",
    "for s in [0, 1, 2, 3, 4, 5, 6, 7, 8, 9]:\n",
    "\n",
    "    # train test split\n",
    "    idx = np.arange(n)\n",
    "    np.random.seed(s)\n",
    "    np.random.shuffle(idx)\n",
    "\n",
    "    df_tr = df.iloc[idx[:n_tr]].reset_index(drop=True)\n",
    "    df_vl = df.iloc[idx[n_tr:n_tr+n_vl]].reset_index(drop=True)\n",
    "\n",
    "    # normalizing target\n",
    "    ytr = np.log1p(df_tr.median_house_value.values)\n",
    "    yvl = np.log1p(df_vl.median_house_value.values)\n",
    "\n",
    "    # drop target from features set\n",
    "    del df_tr[\"median_house_value\"]\n",
    "    del df_vl[\"median_house_value\"]\n",
    "\n",
    "    Xtr = df_tr.fillna(0).values\n",
    "    Xvl = df_vl.fillna(0).values\n",
    "\n",
    "    w0, w = train_linear_regresion(Xtr, ytr)\n",
    "    ypr = w0+ Xvl.dot(w)\n",
    "    logs[s] = rmse(yvl, ypr)\n",
    "\n",
    "\n",
    "dict(sorted(logs.items(), key=lambda item: item[1]))"
   ]
  },
  {
   "cell_type": "code",
   "execution_count": 72,
   "metadata": {},
   "outputs": [
    {
     "name": "stdout",
     "output_type": "stream",
     "text": [
      "0.005465718181013758\n"
     ]
    }
   ],
   "source": [
    "print(np.std(list(logs.values())))"
   ]
  },
  {
   "cell_type": "markdown",
   "metadata": {},
   "source": [
    "## Q6"
   ]
  },
  {
   "cell_type": "code",
   "execution_count": 73,
   "metadata": {},
   "outputs": [
    {
     "name": "stdout",
     "output_type": "stream",
     "text": [
      "(9413, 9) (3137, 9) (3137, 9)\n",
      "(9413,) (3137,) (3137,)\n",
      "(12550, 8) (12550,)\n",
      "0.3384931718411458\n"
     ]
    }
   ],
   "source": [
    "s = 9\n",
    "r = 0.001\n",
    "\n",
    "# train test split\n",
    "idx = np.arange(n)\n",
    "np.random.seed(s)\n",
    "np.random.shuffle(idx)\n",
    "\n",
    "n_vl = int(n*0.2)\n",
    "n_ts = int(n*0.2)\n",
    "n_tr = n - n_vl - n_ts\n",
    "\n",
    "df_tr = df.iloc[idx[:n_tr]].reset_index(drop=True)\n",
    "df_vl = df.iloc[idx[n_tr:n_tr+n_vl]].reset_index(drop=True)\n",
    "df_ts = df.iloc[idx[n_tr+n_vl:]].reset_index(drop=True)\n",
    "\n",
    "print(df_tr.shape,  df_vl.shape, df_ts.shape)\n",
    "\n",
    "# normalizing target\n",
    "ytr = np.log1p(df_tr.median_house_value.values)\n",
    "yvl = np.log1p(df_vl.median_house_value.values)\n",
    "yts = np.log1p(df_ts.median_house_value.values)\n",
    "print(ytr.shape, yvl.shape, yts.shape)\n",
    "\n",
    "# drop target from features set\n",
    "del df_tr[\"median_house_value\"]\n",
    "del df_vl[\"median_house_value\"]\n",
    "del df_ts[\"median_house_value\"]\n",
    "\n",
    "# fill empty valus\n",
    "Xtr = df_tr.fillna(0).values\n",
    "Xvl = df_vl.fillna(0).values\n",
    "Xts = df_ts.fillna(0).values\n",
    "\n",
    "# concat train and validation set\n",
    "X_full_tr = np.concatenate([Xtr, Xvl])\n",
    "y_full_tr = np.concatenate([ytr, yvl])\n",
    "print(X_full_tr.shape, y_full_tr.shape)\n",
    "\n",
    "# train predict\n",
    "w0, w = train_linear_regresion_reg(X_full_tr, y_full_tr, r)\n",
    "ypr = w0+ Xts.dot(w)\n",
    "print(rmse(yts, ypr))"
   ]
  }
 ],
 "metadata": {
  "kernelspec": {
   "display_name": "base",
   "language": "python",
   "name": "python3"
  },
  "language_info": {
   "codemirror_mode": {
    "name": "ipython",
    "version": 3
   },
   "file_extension": ".py",
   "mimetype": "text/x-python",
   "name": "python",
   "nbconvert_exporter": "python",
   "pygments_lexer": "ipython3",
   "version": "3.10.9"
  },
  "orig_nbformat": 4
 },
 "nbformat": 4,
 "nbformat_minor": 2
}
